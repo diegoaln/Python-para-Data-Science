{
 "cells": [
  {
   "cell_type": "markdown",
   "id": "10855afd",
   "metadata": {},
   "source": [
    "## numpy.org\n",
    "#### Principal biblioteca de programação científica.\n",
    "#### Arrays numpy são 50x mais rápidos de processar do que uma lista.\n",
    "#### Porém enquanto listas aceitam vários tipos de dados, um array numpy precisa ser de um único tipo."
   ]
  },
  {
   "cell_type": "code",
   "execution_count": 1,
   "id": "05739c95",
   "metadata": {},
   "outputs": [
    {
     "data": {
      "text/plain": [
       "list"
      ]
     },
     "execution_count": 1,
     "metadata": {},
     "output_type": "execute_result"
    }
   ],
   "source": [
    "#array pyhton - é uma lista\n",
    "arr = [0,1,2,3,4,5,6] #uma dimensão\n",
    "type(arr)"
   ]
  },
  {
   "cell_type": "code",
   "execution_count": 2,
   "id": "10aaf34f",
   "metadata": {},
   "outputs": [
    {
     "name": "stdout",
     "output_type": "stream",
     "text": [
      "[0, 1, 2, 3, 4, 5, 6, 7, 8, 9]\n"
     ]
    },
    {
     "data": {
      "text/plain": [
       "list"
      ]
     },
     "execution_count": 2,
     "metadata": {},
     "output_type": "execute_result"
    }
   ],
   "source": [
    "#mais fácil\n",
    "arr = list(range(10))\n",
    "print(arr)\n",
    "type(arr)"
   ]
  },
  {
   "cell_type": "code",
   "execution_count": 3,
   "id": "f1206c51",
   "metadata": {},
   "outputs": [
    {
     "name": "stdout",
     "output_type": "stream",
     "text": [
      "PI 3.141592653589793\n",
      "[0 1 2 3 4 5 6 7 8 9]\n"
     ]
    }
   ],
   "source": [
    "import numpy as np\n",
    "\n",
    "print('PI', np.pi)\n",
    "\n",
    "#array numpy\n",
    "arr = np.arange(10)\n",
    "print(arr)"
   ]
  },
  {
   "cell_type": "code",
   "execution_count": 4,
   "id": "acc1717a",
   "metadata": {},
   "outputs": [
    {
     "name": "stdout",
     "output_type": "stream",
     "text": [
      "[0 1 2 3 4 5 6 7 8 9]\n"
     ]
    }
   ],
   "source": [
    "#importa somente a função arange\n",
    "from numpy import arange\n",
    "print(arange(10))"
   ]
  },
  {
   "cell_type": "code",
   "execution_count": 5,
   "id": "f0008e47",
   "metadata": {},
   "outputs": [
    {
     "name": "stdout",
     "output_type": "stream",
     "text": [
      "[100 200 300 400]\n",
      "[120 340 500 100]\n"
     ]
    }
   ],
   "source": [
    "#array numpy a partir de uma lista\n",
    "arr = np.array([100, 200, 300, 400])\n",
    "print(arr)\n",
    "\n",
    "\n",
    "#array numpy a partir de uma tupla\n",
    "arr2 = np.array((120, 340, 500, 100))\n",
    "print(arr2)"
   ]
  },
  {
   "cell_type": "code",
   "execution_count": 6,
   "id": "cf11799d",
   "metadata": {},
   "outputs": [
    {
     "name": "stdout",
     "output_type": "stream",
     "text": [
      "100\n",
      "300\n",
      "200\n"
     ]
    }
   ],
   "source": [
    "#indexação\n",
    "print(arr[0])\n",
    "print(arr[2])\n",
    "print(arr[1])"
   ]
  },
  {
   "cell_type": "code",
   "execution_count": 7,
   "id": "8dc1aa27",
   "metadata": {},
   "outputs": [
    {
     "name": "stdout",
     "output_type": "stream",
     "text": [
      "[100 200 300]\n",
      "[300 400 500 600 700]\n",
      "[100 200 300 400]\n",
      "[300 400]\n",
      "700\n"
     ]
    }
   ],
   "source": [
    "arr = np.array([100, 200, 300, 400, 500, 600, 700])\n",
    "#seleção\n",
    "print(arr[0:3])\n",
    "print(arr[2:])\n",
    "print(arr[:4])\n",
    "print(arr[2:4])\n",
    "print(arr[-1])"
   ]
  },
  {
   "cell_type": "code",
   "execution_count": 8,
   "id": "71b91153",
   "metadata": {},
   "outputs": [
    {
     "name": "stdout",
     "output_type": "stream",
     "text": [
      "[100 300 500]\n",
      "[100 300 500 700]\n"
     ]
    }
   ],
   "source": [
    "#fatiamento\n",
    "#é a selação mas você não quer pegar continuo\n",
    "\n",
    "print(arr[0:5:2])\n",
    "print(arr[0::2])"
   ]
  },
  {
   "cell_type": "code",
   "execution_count": null,
   "id": "242db00b",
   "metadata": {},
   "outputs": [],
   "source": []
  },
  {
   "cell_type": "markdown",
   "id": "32ccf9fa",
   "metadata": {},
   "source": [
    "DIA 26/11/2022"
   ]
  },
  {
   "cell_type": "code",
   "execution_count": 9,
   "id": "4cb72797",
   "metadata": {},
   "outputs": [
    {
     "data": {
      "text/plain": [
       "array([[0., 0.],\n",
       "       [0., 0.],\n",
       "       [0., 0.]])"
      ]
     },
     "execution_count": 9,
     "metadata": {},
     "output_type": "execute_result"
    }
   ],
   "source": [
    "np.empty((3,2))"
   ]
  },
  {
   "cell_type": "code",
   "execution_count": 10,
   "id": "44e09fa3",
   "metadata": {
    "scrolled": true
   },
   "outputs": [
    {
     "data": {
      "text/plain": [
       "array([[0.13345294, 0.75157709],\n",
       "       [0.96482229, 0.72150063],\n",
       "       [0.8806394 , 0.96137096]])"
      ]
     },
     "execution_count": 10,
     "metadata": {},
     "output_type": "execute_result"
    }
   ],
   "source": [
    "np.random.random((3,2))"
   ]
  },
  {
   "cell_type": "code",
   "execution_count": 11,
   "id": "b1ed3525",
   "metadata": {},
   "outputs": [
    {
     "data": {
      "text/plain": [
       "array([0, 1])"
      ]
     },
     "execution_count": 11,
     "metadata": {},
     "output_type": "execute_result"
    }
   ],
   "source": [
    "np.random.randint((3,2))"
   ]
  },
  {
   "cell_type": "code",
   "execution_count": 12,
   "id": "a98de3e6",
   "metadata": {},
   "outputs": [
    {
     "data": {
      "text/plain": [
       "array([9, 6, 5, 5, 1])"
      ]
     },
     "execution_count": 12,
     "metadata": {},
     "output_type": "execute_result"
    }
   ],
   "source": [
    "#não é uma matriz\n",
    "#gera 5 números entre 1 e 9\n",
    "\n",
    "np.random.randint(1,10,5)"
   ]
  },
  {
   "cell_type": "code",
   "execution_count": 13,
   "id": "fa352289",
   "metadata": {},
   "outputs": [
    {
     "name": "stdout",
     "output_type": "stream",
     "text": [
      "[[4 6]\n",
      " [5 9]\n",
      " [9 1]]\n"
     ]
    }
   ],
   "source": [
    "a = np.random.randint(1,10,(3,2))\n",
    "print(a)"
   ]
  },
  {
   "cell_type": "code",
   "execution_count": 14,
   "id": "9effed31",
   "metadata": {},
   "outputs": [
    {
     "name": "stdout",
     "output_type": "stream",
     "text": [
      "[[[3 7]\n",
      "  [5 2]\n",
      "  [9 6]]\n",
      "\n",
      " [[5 7]\n",
      "  [8 2]\n",
      "  [7 7]]]\n"
     ]
    }
   ],
   "source": [
    "a = np.random.randint(1,10,(2,3,2))\n",
    "print(a)"
   ]
  },
  {
   "cell_type": "code",
   "execution_count": 15,
   "id": "7f9a512b",
   "metadata": {},
   "outputs": [
    {
     "name": "stdout",
     "output_type": "stream",
     "text": [
      "[[[5 7]\n",
      "  [8 2]\n",
      "  [7 7]]\n",
      "\n",
      " [[3 7]\n",
      "  [5 2]\n",
      "  [9 6]]]\n"
     ]
    }
   ],
   "source": [
    "np.random.shuffle(a)\n",
    "print(a)"
   ]
  },
  {
   "cell_type": "code",
   "execution_count": 17,
   "id": "f203b3e7",
   "metadata": {},
   "outputs": [
    {
     "name": "stdout",
     "output_type": "stream",
     "text": [
      "[ 1  7 17 12  2 14]\n",
      "[-19 -13  -3  -8 -18  -6]\n"
     ]
    }
   ],
   "source": [
    "a = np.array([-9,-3,7,2,-8,4])\n",
    "b = np.array([10]) \n",
    "c = a + b\n",
    "print(c)\n",
    "d = a - b\n",
    "print(d)"
   ]
  },
  {
   "cell_type": "markdown",
   "id": "6c4cfdfa",
   "metadata": {},
   "source": [
    "## Operações básicas sobre arrays"
   ]
  },
  {
   "cell_type": "code",
   "execution_count": 18,
   "id": "ab9654b0",
   "metadata": {},
   "outputs": [
    {
     "name": "stdout",
     "output_type": "stream",
     "text": [
      "[0 1 2 3 4 5 6 7 8]\n",
      "[[0 1 2]\n",
      " [3 4 5]\n",
      " [6 7 8]]\n",
      "\n",
      "Soma: 36\n",
      "Soma colunas: [ 9 12 15]\n",
      "Soma linhas: [ 3 12 21]\n"
     ]
    }
   ],
   "source": [
    "a = np.arange(9)\n",
    "print(a)\n",
    "b = a.reshape((3,3))\n",
    "print(b)\n",
    "\n",
    "#soma todos os elementos\n",
    "print('\\nSoma:', b.sum())\n",
    "\n",
    "#soma colunas\n",
    "print('Soma colunas:', b.sum(axis=0))\n",
    "\n",
    "#soma linhas\n",
    "print('Soma linhas:', b.sum(axis=1))"
   ]
  },
  {
   "cell_type": "markdown",
   "id": "0ce82efd",
   "metadata": {},
   "source": [
    "# Operações com matrizes"
   ]
  },
  {
   "cell_type": "code",
   "execution_count": 19,
   "id": "a75e8225",
   "metadata": {},
   "outputs": [
    {
     "data": {
      "text/plain": [
       "array([3, 6, 9])"
      ]
     },
     "execution_count": 19,
     "metadata": {},
     "output_type": "execute_result"
    }
   ],
   "source": [
    "#vetoriza\n",
    "dados = np.array([\n",
    "                [1,2,3],\n",
    "                [4,5,6],\n",
    "                [7,8,9]\n",
    "])\n",
    "\n",
    "np.max(dados, axis=0)\n",
    "np.max(dados, axis=1)"
   ]
  },
  {
   "cell_type": "code",
   "execution_count": null,
   "id": "61bf3148",
   "metadata": {},
   "outputs": [],
   "source": []
  },
  {
   "cell_type": "markdown",
   "id": "e12d2ab5",
   "metadata": {},
   "source": [
    "# Fatiamento"
   ]
  },
  {
   "cell_type": "code",
   "execution_count": 20,
   "id": "472bf7b1",
   "metadata": {},
   "outputs": [],
   "source": [
    "a = np.array([0,1,2,3,4,5])"
   ]
  },
  {
   "cell_type": "code",
   "execution_count": 21,
   "id": "d0b3a3f9",
   "metadata": {},
   "outputs": [
    {
     "name": "stdout",
     "output_type": "stream",
     "text": [
      "[0 2 4]\n"
     ]
    }
   ],
   "source": [
    "print(a[0:5:2])"
   ]
  },
  {
   "cell_type": "code",
   "execution_count": 22,
   "id": "aecc621c",
   "metadata": {},
   "outputs": [
    {
     "name": "stdout",
     "output_type": "stream",
     "text": [
      "[2 3 4]\n",
      "[9 9 9]\n"
     ]
    }
   ],
   "source": [
    "#fatiamento para atribuição\n",
    "b = a[2:5]\n",
    "print(b)\n",
    "b[:] = 9\n",
    "print(b)      "
   ]
  },
  {
   "cell_type": "code",
   "execution_count": 23,
   "id": "adf68e45",
   "metadata": {},
   "outputs": [
    {
     "name": "stdout",
     "output_type": "stream",
     "text": [
      "[ 0  1  2  3  4  5  6  7  8  9 10 11 12 13 14 15 16 17 18 19]\n",
      "[ 0  1  2  3  4  0  0  0  0  0 10 11 12 13 14 15 16 17 18 19]\n"
     ]
    }
   ],
   "source": [
    "a = np.arange(20)\n",
    "print(a)\n",
    "a[5:10] = 0\n",
    "print(a)"
   ]
  }
 ],
 "metadata": {
  "kernelspec": {
   "display_name": "Python 3 (ipykernel)",
   "language": "python",
   "name": "python3"
  },
  "language_info": {
   "codemirror_mode": {
    "name": "ipython",
    "version": 3
   },
   "file_extension": ".py",
   "mimetype": "text/x-python",
   "name": "python",
   "nbconvert_exporter": "python",
   "pygments_lexer": "ipython3",
   "version": "3.9.12"
  }
 },
 "nbformat": 4,
 "nbformat_minor": 5
}
