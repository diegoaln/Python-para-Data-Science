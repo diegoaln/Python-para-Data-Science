{
 "cells": [
  {
   "cell_type": "markdown",
   "id": "b4c558c6",
   "metadata": {},
   "source": [
    "### Revisão aula passada"
   ]
  },
  {
   "cell_type": "code",
   "execution_count": 3,
   "id": "cff5c473",
   "metadata": {},
   "outputs": [],
   "source": [
    "lista = [1,2,2,3,3,4,4,5,5]\n",
    "tupla = 1,2,2,3,3,4,4,5,5\n",
    "conj = {1,2,2,3,3,4,4,5,5}\n",
    "dic = {'joao': 123, 'ze': 456}"
   ]
  },
  {
   "cell_type": "code",
   "execution_count": 4,
   "id": "3613f3e3",
   "metadata": {},
   "outputs": [
    {
     "name": "stdout",
     "output_type": "stream",
     "text": [
      "[1, 2, 2, 3, 3, 4, 4, 5, 5]\n",
      "(1, 2, 2, 3, 3, 4, 4, 5, 5)\n",
      "{1, 2, 3, 4, 5}\n",
      "{'joao': 123, 'ze': 456}\n"
     ]
    }
   ],
   "source": [
    "print(lista)\n",
    "print(tupla)\n",
    "print(conj)\n",
    "print(dic)"
   ]
  },
  {
   "cell_type": "code",
   "execution_count": 5,
   "id": "e7c2413c",
   "metadata": {},
   "outputs": [],
   "source": [
    "#criar vazio\n",
    "lista = []\n",
    "tupla = ()\n",
    "conj = set()\n",
    "dic = {}"
   ]
  },
  {
   "cell_type": "code",
   "execution_count": 6,
   "id": "7b7cc836",
   "metadata": {},
   "outputs": [
    {
     "data": {
      "text/plain": [
       "['__add__',\n",
       " '__class__',\n",
       " '__class_getitem__',\n",
       " '__contains__',\n",
       " '__delattr__',\n",
       " '__delitem__',\n",
       " '__dir__',\n",
       " '__doc__',\n",
       " '__eq__',\n",
       " '__format__',\n",
       " '__ge__',\n",
       " '__getattribute__',\n",
       " '__getitem__',\n",
       " '__gt__',\n",
       " '__hash__',\n",
       " '__iadd__',\n",
       " '__imul__',\n",
       " '__init__',\n",
       " '__init_subclass__',\n",
       " '__iter__',\n",
       " '__le__',\n",
       " '__len__',\n",
       " '__lt__',\n",
       " '__mul__',\n",
       " '__ne__',\n",
       " '__new__',\n",
       " '__reduce__',\n",
       " '__reduce_ex__',\n",
       " '__repr__',\n",
       " '__reversed__',\n",
       " '__rmul__',\n",
       " '__setattr__',\n",
       " '__setitem__',\n",
       " '__sizeof__',\n",
       " '__str__',\n",
       " '__subclasshook__',\n",
       " 'append',\n",
       " 'clear',\n",
       " 'copy',\n",
       " 'count',\n",
       " 'extend',\n",
       " 'index',\n",
       " 'insert',\n",
       " 'pop',\n",
       " 'remove',\n",
       " 'reverse',\n",
       " 'sort']"
      ]
     },
     "execution_count": 6,
     "metadata": {},
     "output_type": "execute_result"
    }
   ],
   "source": [
    "# se você utilizar o dir, ele vai trazer os metodos\n",
    "dir(lista)"
   ]
  },
  {
   "cell_type": "markdown",
   "id": "ef525f6c",
   "metadata": {},
   "source": [
    "#### Dicionários são conjuntos formados por chave:valor (key:value)\n",
    "#### A chave também pode ser chamada de rótulo e pode ser string ou númerica\n",
    "#### O valor pode ser string, número ou lista, assim um conjunto será formado de listas com rótulos\n",
    "#### ex: {chave1: valor1, chave2: valor2}"
   ]
  },
  {
   "cell_type": "code",
   "execution_count": 7,
   "id": "ae9424bf",
   "metadata": {},
   "outputs": [
    {
     "name": "stdout",
     "output_type": "stream",
     "text": [
      "{'a': 1, 'b': 2, 'c': 3}\n"
     ]
    }
   ],
   "source": [
    "# cria um dicionário\n",
    "meu_dic = {'a':1, 'b':2, 'c':3}\n",
    "print(meu_dic)"
   ]
  },
  {
   "cell_type": "code",
   "execution_count": 8,
   "id": "8aecb326",
   "metadata": {},
   "outputs": [
    {
     "name": "stdout",
     "output_type": "stream",
     "text": [
      "1\n",
      "2\n",
      "3\n"
     ]
    }
   ],
   "source": [
    "#mostra valores usando as chaves\n",
    "print(meu_dic['a'])\n",
    "print(meu_dic['b'])\n",
    "print(meu_dic['c'])"
   ]
  },
  {
   "cell_type": "code",
   "execution_count": 9,
   "id": "52236a4e",
   "metadata": {},
   "outputs": [
    {
     "name": "stdout",
     "output_type": "stream",
     "text": [
      "{'a': 1, 'b': 2, 'c': 3, 'd': 4}\n"
     ]
    }
   ],
   "source": [
    "#adiciona novo chave:valor\n",
    "meu_dic['d'] = 4\n",
    "print(meu_dic)"
   ]
  },
  {
   "cell_type": "code",
   "execution_count": 10,
   "id": "769e7181",
   "metadata": {},
   "outputs": [
    {
     "name": "stdout",
     "output_type": "stream",
     "text": [
      "3\n",
      "3\n"
     ]
    }
   ],
   "source": [
    "#mostra valor\n",
    "print(meu_dic['c'])\n",
    "print(meu_dic.get('c'))"
   ]
  },
  {
   "cell_type": "code",
   "execution_count": 11,
   "id": "aa485cb3",
   "metadata": {},
   "outputs": [
    {
     "data": {
      "text/plain": [
       "['a', 'b', 'c', 'd']"
      ]
     },
     "execution_count": 11,
     "metadata": {},
     "output_type": "execute_result"
    }
   ],
   "source": [
    "#converte o dicionario em lista\n",
    "list(meu_dic)"
   ]
  },
  {
   "cell_type": "code",
   "execution_count": 12,
   "id": "3b3f2888",
   "metadata": {},
   "outputs": [
    {
     "name": "stdout",
     "output_type": "stream",
     "text": [
      "1234\n"
     ]
    }
   ],
   "source": [
    "#cria dicionario de contatos\n",
    "fones = {'joao': 1234, 'maria': 4567}\n",
    "print(fones['joao'])"
   ]
  },
  {
   "cell_type": "code",
   "execution_count": 13,
   "id": "df2869c5",
   "metadata": {},
   "outputs": [
    {
     "name": "stdout",
     "output_type": "stream",
     "text": [
      "Tamanho: 2\n"
     ]
    }
   ],
   "source": [
    "print('Tamanho:', len(fones))"
   ]
  },
  {
   "cell_type": "code",
   "execution_count": 14,
   "id": "d38b446f",
   "metadata": {},
   "outputs": [
    {
     "name": "stdout",
     "output_type": "stream",
     "text": [
      "9999\n"
     ]
    }
   ],
   "source": [
    "#altera valor\n",
    "fones['joao'] = 9999\n",
    "print(fones['joao'])"
   ]
  },
  {
   "cell_type": "code",
   "execution_count": 15,
   "id": "489f3104",
   "metadata": {},
   "outputs": [
    {
     "name": "stdout",
     "output_type": "stream",
     "text": [
      "Este nome não tem telefone!\n"
     ]
    }
   ],
   "source": [
    "if 'luiz' in fones:\n",
    "    print(fones['luiz'])\n",
    "else:\n",
    "    print('Este nome não tem telefone!')"
   ]
  },
  {
   "cell_type": "code",
   "execution_count": 16,
   "id": "7f8a9c6e",
   "metadata": {},
   "outputs": [
    {
     "name": "stdout",
     "output_type": "stream",
     "text": [
      "Este nome não tem telefone!\n"
     ]
    }
   ],
   "source": [
    "if 'luiz' not in fones:\n",
    "    print('Este nome não tem telefone!')"
   ]
  },
  {
   "cell_type": "code",
   "execution_count": 17,
   "id": "278ebae2",
   "metadata": {},
   "outputs": [
    {
     "data": {
      "text/plain": [
       "dict_keys(['a', 'b', 'c', 'd'])"
      ]
     },
     "execution_count": 17,
     "metadata": {},
     "output_type": "execute_result"
    }
   ],
   "source": [
    "#mostra chaves\n",
    "meu_dic.keys()"
   ]
  },
  {
   "cell_type": "code",
   "execution_count": 18,
   "id": "45f93981",
   "metadata": {},
   "outputs": [
    {
     "data": {
      "text/plain": [
       "dict_values([1, 2, 3, 4])"
      ]
     },
     "execution_count": 18,
     "metadata": {},
     "output_type": "execute_result"
    }
   ],
   "source": [
    "#mostra valores\n",
    "meu_dic.values()"
   ]
  },
  {
   "cell_type": "code",
   "execution_count": 20,
   "id": "ab73a5e0",
   "metadata": {},
   "outputs": [
    {
     "name": "stdout",
     "output_type": "stream",
     "text": [
      "joao 9999\n",
      "maria 4567\n"
     ]
    }
   ],
   "source": [
    "#percorrendo o dic com for\n",
    "for k in fones:\n",
    "    print(k, fones[k])\n",
    "    \n",
    "    \n",
    "# K seria a chave\n",
    "# fones[k] seria o valor"
   ]
  },
  {
   "cell_type": "code",
   "execution_count": 24,
   "id": "50f48e86",
   "metadata": {},
   "outputs": [
    {
     "name": "stdout",
     "output_type": "stream",
     "text": [
      "País:  Brasil\n",
      "Idioma:  Português\n"
     ]
    }
   ],
   "source": [
    "#cria um novo dic através de um conjunto de chaves:valores\n",
    "info = {'pais': 'Brasil', 'habitantes': 21000000, 'idioma': 'Português', 'reigões':5}\n",
    "print('País: ', info['pais'])\n",
    "print('Idioma: ', info['idioma'])"
   ]
  },
  {
   "cell_type": "code",
   "execution_count": 21,
   "id": "5cddab4c",
   "metadata": {},
   "outputs": [
    {
     "name": "stdout",
     "output_type": "stream",
     "text": [
      "the\n",
      "good\n",
      "pen\n"
     ]
    }
   ],
   "source": [
    "#JUST AN EXAMPLE OUT THE CLASS\n",
    "frase = 'a boa caneta'\n",
    "lista = frase.split()  #split = separa pelo espaço e cria uma lista ['a' 'boa' 'caneta']\n",
    "port_ingles = {'a': 'the', 'boa': 'good', 'caneta': 'pen'}\n",
    "\n",
    "for p in lista:\n",
    "    print(port_ingles[p])"
   ]
  },
  {
   "cell_type": "code",
   "execution_count": 26,
   "id": "ce076788",
   "metadata": {},
   "outputs": [
    {
     "name": "stdout",
     "output_type": "stream",
     "text": [
      "[('joao', 'joao@gmail.com'), ('maria', 'maria@gmail.com'), ('luiz', 'luiz@gmail.com')]\n",
      "{'joao': 'joao@gmail.com', 'maria': 'maria@gmail.com', 'luiz': 'luiz@gmail.com'}\n"
     ]
    }
   ],
   "source": [
    "#dicionario a partir de uma lista de tuplas\n",
    "lista = [\n",
    "    ('joao', 'joao@gmail.com'),\n",
    "    ('maria', 'maria@gmail.com'),\n",
    "    ('luiz', 'luiz@gmail.com'),\n",
    "]\n",
    "\n",
    "print(lista)\n",
    "\n",
    "#cria o dic a partir da lista\n",
    "contatos = dict(lista)\n",
    "print(contatos)"
   ]
  },
  {
   "cell_type": "code",
   "execution_count": 40,
   "id": "e037717e",
   "metadata": {},
   "outputs": [
    {
     "name": "stdout",
     "output_type": "stream",
     "text": [
      "[('id', [1, 2, 3]), ('vendedor', ['Julio', 'Claudio', 'Fulano']), ('Vendas', [1500, 2500, 4500])]\n",
      "{'id': [1, 2, 3], 'vendedor': ['Julio', 'Claudio', 'Fulano'], 'Vendas': [1500, 2500, 4500]}\n"
     ]
    }
   ],
   "source": [
    "#dic a partir de lista, cujos valores são sublistas\n",
    "lista_vendas = [\n",
    "    ('id', [1, 2, 3]),\n",
    "    ('vendedor', ['Julio', 'Claudio', 'Fulano']),\n",
    "    ('Vendas', [1500, 2500, 4500])\n",
    "]\n",
    "\n",
    "print(lista_vendas)\n",
    "\n",
    "\n",
    "tabela = dict(lista_vendas)\n",
    "print(tabela)"
   ]
  },
  {
   "cell_type": "code",
   "execution_count": 46,
   "id": "9d98377a",
   "metadata": {},
   "outputs": [
    {
     "name": "stdout",
     "output_type": "stream",
     "text": [
      "Chave: id \n",
      "Valores: [1, 2, 3]\n",
      "\n",
      "Chave: vendedor \n",
      "Valores: ['Julio', 'Claudio', 'Fulano']\n",
      "\n",
      "Chave: Vendas \n",
      "Valores: [1500, 2500, 4500]\n",
      "\n"
     ]
    }
   ],
   "source": [
    "for k in tabela:\n",
    "    print(f'Chave: {k} \\nValores: {tabela[k]}\\n')"
   ]
  },
  {
   "cell_type": "code",
   "execution_count": 47,
   "id": "931483aa",
   "metadata": {},
   "outputs": [
    {
     "data": {
      "text/plain": [
       "[('id', [1, 2, 3]),\n",
       " ('vendedor', ['Julio', 'Claudio', 'Fulano']),\n",
       " ('Vendas', [1500, 2500, 4500])]"
      ]
     },
     "execution_count": 47,
     "metadata": {},
     "output_type": "execute_result"
    }
   ],
   "source": [
    "#obtem a lista de itens do dic\n",
    "list(tabela.items())"
   ]
  },
  {
   "cell_type": "code",
   "execution_count": 49,
   "id": "70204787",
   "metadata": {},
   "outputs": [
    {
     "data": {
      "text/html": [
       "<div>\n",
       "<style scoped>\n",
       "    .dataframe tbody tr th:only-of-type {\n",
       "        vertical-align: middle;\n",
       "    }\n",
       "\n",
       "    .dataframe tbody tr th {\n",
       "        vertical-align: top;\n",
       "    }\n",
       "\n",
       "    .dataframe thead th {\n",
       "        text-align: right;\n",
       "    }\n",
       "</style>\n",
       "<table border=\"1\" class=\"dataframe\">\n",
       "  <thead>\n",
       "    <tr style=\"text-align: right;\">\n",
       "      <th></th>\n",
       "      <th>id</th>\n",
       "      <th>vendedor</th>\n",
       "      <th>Vendas</th>\n",
       "    </tr>\n",
       "  </thead>\n",
       "  <tbody>\n",
       "    <tr>\n",
       "      <th>0</th>\n",
       "      <td>1</td>\n",
       "      <td>Julio</td>\n",
       "      <td>1500</td>\n",
       "    </tr>\n",
       "    <tr>\n",
       "      <th>1</th>\n",
       "      <td>2</td>\n",
       "      <td>Claudio</td>\n",
       "      <td>2500</td>\n",
       "    </tr>\n",
       "    <tr>\n",
       "      <th>2</th>\n",
       "      <td>3</td>\n",
       "      <td>Fulano</td>\n",
       "      <td>4500</td>\n",
       "    </tr>\n",
       "  </tbody>\n",
       "</table>\n",
       "</div>"
      ],
      "text/plain": [
       "   id vendedor  Vendas\n",
       "0   1    Julio    1500\n",
       "1   2  Claudio    2500\n",
       "2   3   Fulano    4500"
      ]
     },
     "metadata": {},
     "output_type": "display_data"
    }
   ],
   "source": [
    "#PANDAS\n",
    "#cria um df a partir de um dic tabela\n",
    "import pandas as pd\n",
    "df = pd.DataFrame.from_dict(tabela)\n",
    "display(df)"
   ]
  },
  {
   "cell_type": "code",
   "execution_count": 54,
   "id": "8c7e02c9",
   "metadata": {},
   "outputs": [
    {
     "data": {
      "text/html": [
       "<div>\n",
       "<style scoped>\n",
       "    .dataframe tbody tr th:only-of-type {\n",
       "        vertical-align: middle;\n",
       "    }\n",
       "\n",
       "    .dataframe tbody tr th {\n",
       "        vertical-align: top;\n",
       "    }\n",
       "\n",
       "    .dataframe thead th {\n",
       "        text-align: right;\n",
       "    }\n",
       "</style>\n",
       "<table border=\"1\" class=\"dataframe\">\n",
       "  <thead>\n",
       "    <tr style=\"text-align: right;\">\n",
       "      <th></th>\n",
       "      <th>Nome</th>\n",
       "      <th>Idade</th>\n",
       "      <th>Dpto</th>\n",
       "    </tr>\n",
       "  </thead>\n",
       "  <tbody>\n",
       "    <tr>\n",
       "      <th>0</th>\n",
       "      <td>Frodo</td>\n",
       "      <td>25</td>\n",
       "      <td>Vendas</td>\n",
       "    </tr>\n",
       "    <tr>\n",
       "      <th>1</th>\n",
       "      <td>Sam</td>\n",
       "      <td>26</td>\n",
       "      <td>Vendas</td>\n",
       "    </tr>\n",
       "    <tr>\n",
       "      <th>2</th>\n",
       "      <td>Gandalf</td>\n",
       "      <td>50</td>\n",
       "      <td>Contabilidade</td>\n",
       "    </tr>\n",
       "    <tr>\n",
       "      <th>3</th>\n",
       "      <td>Galadriel</td>\n",
       "      <td>40</td>\n",
       "      <td>RH</td>\n",
       "    </tr>\n",
       "  </tbody>\n",
       "</table>\n",
       "</div>"
      ],
      "text/plain": [
       "        Nome  Idade           Dpto\n",
       "0      Frodo     25         Vendas\n",
       "1        Sam     26         Vendas\n",
       "2    Gandalf     50  Contabilidade\n",
       "3  Galadriel     40             RH"
      ]
     },
     "metadata": {},
     "output_type": "display_data"
    }
   ],
   "source": [
    "#cria outro dic a partir de um dic de dados\n",
    "dados = {\n",
    "    'Nome': ['Frodo', 'Sam', 'Gandalf', 'Galadriel'],\n",
    "    'Idade': [25, 26, 50, 40],\n",
    "    'Dpto': ['Vendas', 'Vendas', 'Contabilidade', 'RH']\n",
    "}\n",
    "\n",
    "#cria dataframe\n",
    "df =  pd.DataFrame.from_dict(dados)\n",
    "display(df)"
   ]
  },
  {
   "cell_type": "code",
   "execution_count": 57,
   "id": "53c1cd1d",
   "metadata": {},
   "outputs": [
    {
     "data": {
      "text/plain": [
       "0    25\n",
       "1    26\n",
       "2    50\n",
       "3    40\n",
       "Name: Idade, dtype: int64"
      ]
     },
     "execution_count": 57,
     "metadata": {},
     "output_type": "execute_result"
    }
   ],
   "source": [
    "df['Idade']"
   ]
  },
  {
   "cell_type": "code",
   "execution_count": 59,
   "id": "015ca3ad",
   "metadata": {},
   "outputs": [
    {
     "name": "stdout",
     "output_type": "stream",
     "text": [
      "Menor idade: 25\n",
      "Maior idade: 50\n",
      "Media idade: 35.25\n"
     ]
    }
   ],
   "source": [
    "#usando python\n",
    "print('Menor idade:', min(df['Idade']))\n",
    "print('Maior idade:', max(df['Idade']))\n",
    "print('Media idade:', sum(df['Idade']) / len(df['Idade']))"
   ]
  },
  {
   "cell_type": "code",
   "execution_count": 61,
   "id": "7fe0a6db",
   "metadata": {},
   "outputs": [
    {
     "name": "stdout",
     "output_type": "stream",
     "text": [
      "25\n",
      "50\n",
      "35.25\n"
     ]
    }
   ],
   "source": [
    "#usando pandas\n",
    "print(df['Idade'].min())\n",
    "print(df['Idade'].max())\n",
    "print(df['Idade'].mean())"
   ]
  },
  {
   "cell_type": "code",
   "execution_count": 63,
   "id": "923d7f50",
   "metadata": {},
   "outputs": [],
   "source": [
    "#cria dic vazios\n",
    "cidades = {} #ou\n",
    "ciddes = dict()"
   ]
  },
  {
   "cell_type": "code",
   "execution_count": 64,
   "id": "f2cfb146",
   "metadata": {},
   "outputs": [
    {
     "data": {
      "text/plain": [
       "{'ponta grossa': 334535, 'castro': 71809, 'carambei': 24225}"
      ]
     },
     "metadata": {},
     "output_type": "display_data"
    }
   ],
   "source": [
    "#adiciona dados\n",
    "cidades['ponta grossa'] = 334535\n",
    "cidades['castro'] = 71809\n",
    "cidades['carambei'] = 24225\n",
    "display(cidades)"
   ]
  },
  {
   "cell_type": "code",
   "execution_count": 71,
   "id": "6d7a3a1e",
   "metadata": {},
   "outputs": [
    {
     "name": "stdout",
     "output_type": "stream",
     "text": [
      "\n",
      "Cidade \t\tPopulação\n",
      "ponta grossa    334535\n",
      "castro          71809\n",
      "carambei        24225\n"
     ]
    }
   ],
   "source": [
    "print('\\nCidade \\t\\tPopulação')\n",
    "for x in cidades:\n",
    "    print(f'{x:15} {cidades[x]}')"
   ]
  },
  {
   "cell_type": "code",
   "execution_count": 73,
   "id": "c836d5b3",
   "metadata": {},
   "outputs": [
    {
     "name": "stdout",
     "output_type": "stream",
     "text": [
      "\n",
      "UF  \tPopulação\n",
      "SC       7.165\n",
      "RS       11.29\n",
      "PR       11.08\n"
     ]
    }
   ],
   "source": [
    "# cria outro dicionario de dados\n",
    "estados = {'SC': 7.165, 'RS': 11.29, 'PR': 11.08}\n",
    "print('\\nUF  \\tPopulação')\n",
    "\n",
    "\n",
    "for x in estados:\n",
    "    print(f'{x:8} {estados[x]}')"
   ]
  },
  {
   "cell_type": "code",
   "execution_count": 74,
   "id": "17d8b1a0",
   "metadata": {},
   "outputs": [
    {
     "data": {
      "text/plain": [
       "SC     7.165\n",
       "RS    11.290\n",
       "PR    11.080\n",
       "dtype: float64"
      ]
     },
     "metadata": {},
     "output_type": "display_data"
    }
   ],
   "source": [
    "# cria uma serie do pandas\n",
    "\n",
    "#as chaves do dic serão os índices\n",
    "series = pd.Series(estados)\n",
    "display(series)"
   ]
  },
  {
   "cell_type": "code",
   "execution_count": 75,
   "id": "fc34285b",
   "metadata": {},
   "outputs": [
    {
     "data": {
      "text/html": [
       "<div>\n",
       "<style scoped>\n",
       "    .dataframe tbody tr th:only-of-type {\n",
       "        vertical-align: middle;\n",
       "    }\n",
       "\n",
       "    .dataframe tbody tr th {\n",
       "        vertical-align: top;\n",
       "    }\n",
       "\n",
       "    .dataframe thead th {\n",
       "        text-align: right;\n",
       "    }\n",
       "</style>\n",
       "<table border=\"1\" class=\"dataframe\">\n",
       "  <thead>\n",
       "    <tr style=\"text-align: right;\">\n",
       "      <th></th>\n",
       "      <th>População (milhões)</th>\n",
       "    </tr>\n",
       "  </thead>\n",
       "  <tbody>\n",
       "    <tr>\n",
       "      <th>SC</th>\n",
       "      <td>7.165</td>\n",
       "    </tr>\n",
       "    <tr>\n",
       "      <th>RS</th>\n",
       "      <td>11.290</td>\n",
       "    </tr>\n",
       "    <tr>\n",
       "      <th>PR</th>\n",
       "      <td>11.080</td>\n",
       "    </tr>\n",
       "  </tbody>\n",
       "</table>\n",
       "</div>"
      ],
      "text/plain": [
       "    População (milhões)\n",
       "SC                7.165\n",
       "RS               11.290\n",
       "PR               11.080"
      ]
     },
     "execution_count": 75,
     "metadata": {},
     "output_type": "execute_result"
    }
   ],
   "source": [
    "#converte series em DF, sendo que as chaves serão os indices\n",
    "\n",
    "df = series.to_frame(name='População (milhões)') # ou pd.DataFrame(series)\n",
    "df"
   ]
  },
  {
   "cell_type": "code",
   "execution_count": 81,
   "id": "88d351e8",
   "metadata": {},
   "outputs": [
    {
     "name": "stdout",
     "output_type": "stream",
     "text": [
      "Ordenado pela chave\n",
      "1 Josiel\n",
      "2 Gabriel\n",
      "3 Rafael\n",
      "\n",
      "\n",
      "Ordenado pelo valor\n",
      "2 Gabriel\n",
      "1 Josiel\n",
      "3 Rafael\n",
      "\n",
      "\n",
      "Ordenado pelo valor reverso\n",
      "3 Rafael\n",
      "1 Josiel\n",
      "2 Gabriel\n"
     ]
    }
   ],
   "source": [
    "#dic com chave numerica\n",
    "alunos = {3: 'Rafael', 2: 'Gabriel', 1:'Josiel'}\n",
    "#print(alunos[1])\n",
    "\n",
    "#ordena pela chave\n",
    "print('Ordenado pela chave')\n",
    "for x in sorted(alunos):\n",
    "    print(x, alunos[x])\n",
    "    \n",
    "    \n",
    "#ordena pelo valor\n",
    "print('\\n\\nOrdenado pelo valor')\n",
    "for x in sorted(alunos, key=alunos.get):\n",
    "    print(x, alunos[x])\n",
    "    \n",
    "\n",
    "#ordena pelo valor reverso\n",
    "print('\\n\\nOrdenado pelo valor reverso')\n",
    "for x in sorted(alunos, key=alunos.get, reverse=True):\n",
    "    print(x, alunos[x])"
   ]
  },
  {
   "cell_type": "code",
   "execution_count": 98,
   "id": "0d074b7f",
   "metadata": {},
   "outputs": [
    {
     "name": "stdout",
     "output_type": "stream",
     "text": [
      "\n",
      "Dados IBGE: {'indice': [0, 1, 2], 'cidades': ['Ponta Grossa', 'Castro', 'Carambei'], 'populacao': [334535, 71809, 21225]}\n",
      "\n",
      "Índice \tCidade \t\tPopulação\n",
      "0 \tPonta Grossa    334535\n",
      "1 \tCastro          71809\n",
      "2 \tCarambei        21225\n"
     ]
    }
   ],
   "source": [
    "#dic com rotulos e listas\n",
    "indice = [0,1,2]\n",
    "cidades = ['Ponta Grossa', 'Castro', 'Carambei']\n",
    "populacao = [334535, 71809, 21225]\n",
    "dados = {'indice': indice, 'cidades': cidades, 'populacao': populacao}\n",
    "\n",
    "print('\\nDados IBGE:', dados)\n",
    "\n",
    "print('\\nÍndice \\tCidade \\t\\tPopulação')\n",
    "for i in dados['indice']:\n",
    "    print(f\"{i} \\t{dados['cidades'][i]:15} {dados['populacao'][i]}\")"
   ]
  },
  {
   "cell_type": "code",
   "execution_count": 99,
   "id": "d89910d5",
   "metadata": {},
   "outputs": [
    {
     "data": {
      "text/html": [
       "<div>\n",
       "<style scoped>\n",
       "    .dataframe tbody tr th:only-of-type {\n",
       "        vertical-align: middle;\n",
       "    }\n",
       "\n",
       "    .dataframe tbody tr th {\n",
       "        vertical-align: top;\n",
       "    }\n",
       "\n",
       "    .dataframe thead th {\n",
       "        text-align: right;\n",
       "    }\n",
       "</style>\n",
       "<table border=\"1\" class=\"dataframe\">\n",
       "  <thead>\n",
       "    <tr style=\"text-align: right;\">\n",
       "      <th></th>\n",
       "      <th>cidades</th>\n",
       "      <th>populacao</th>\n",
       "    </tr>\n",
       "    <tr>\n",
       "      <th>indice</th>\n",
       "      <th></th>\n",
       "      <th></th>\n",
       "    </tr>\n",
       "  </thead>\n",
       "  <tbody>\n",
       "    <tr>\n",
       "      <th>0</th>\n",
       "      <td>Ponta Grossa</td>\n",
       "      <td>334535</td>\n",
       "    </tr>\n",
       "    <tr>\n",
       "      <th>1</th>\n",
       "      <td>Castro</td>\n",
       "      <td>71809</td>\n",
       "    </tr>\n",
       "    <tr>\n",
       "      <th>2</th>\n",
       "      <td>Carambei</td>\n",
       "      <td>21225</td>\n",
       "    </tr>\n",
       "  </tbody>\n",
       "</table>\n",
       "</div>"
      ],
      "text/plain": [
       "             cidades  populacao\n",
       "indice                         \n",
       "0       Ponta Grossa     334535\n",
       "1             Castro      71809\n",
       "2           Carambei      21225"
      ]
     },
     "execution_count": 99,
     "metadata": {},
     "output_type": "execute_result"
    }
   ],
   "source": [
    "df = pd.DataFrame(dados).set_index('indice')\n",
    "df"
   ]
  },
  {
   "cell_type": "code",
   "execution_count": null,
   "id": "cf020732",
   "metadata": {},
   "outputs": [],
   "source": []
  }
 ],
 "metadata": {
  "kernelspec": {
   "display_name": "Python 3 (ipykernel)",
   "language": "python",
   "name": "python3"
  },
  "language_info": {
   "codemirror_mode": {
    "name": "ipython",
    "version": 3
   },
   "file_extension": ".py",
   "mimetype": "text/x-python",
   "name": "python",
   "nbconvert_exporter": "python",
   "pygments_lexer": "ipython3",
   "version": "3.9.12"
  }
 },
 "nbformat": 4,
 "nbformat_minor": 5
}
