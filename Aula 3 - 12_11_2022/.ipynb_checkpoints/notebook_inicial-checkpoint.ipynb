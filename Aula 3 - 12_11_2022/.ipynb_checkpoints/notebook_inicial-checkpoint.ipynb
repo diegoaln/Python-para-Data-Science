{
 "cells": [
  {
   "cell_type": "code",
   "execution_count": 8,
   "id": "abe1c91c",
   "metadata": {},
   "outputs": [
    {
     "name": "stdout",
     "output_type": "stream",
     "text": [
      "Python 3.9.12\n"
     ]
    }
   ],
   "source": [
    "!python --version"
   ]
  },
  {
   "cell_type": "markdown",
   "id": "3e7be0ed",
   "metadata": {},
   "source": [
    "#### Alguns comandos do jupyter:\n",
    "####  clicando ao lado da celula, após ficar azul a celula você pode manipular\n",
    "####  2x a tecla D você deleta\n",
    "####  tecla A, adiciona uma celula acima\n",
    "####  tecla b, adiciona uma celula embaixo"
   ]
  },
  {
   "cell_type": "code",
   "execution_count": 9,
   "id": "7f83122f",
   "metadata": {
    "scrolled": true
   },
   "outputs": [
    {
     "name": "stdout",
     "output_type": "stream",
     "text": [
      "\n",
      "primeira linha \n",
      "segunda linha\n"
     ]
    },
    {
     "data": {
      "text/plain": [
       "'\\nprimeira linha \\nsegunda linha'"
      ]
     },
     "metadata": {},
     "output_type": "display_data"
    }
   ],
   "source": [
    "print('\\nprimeira linha \\nsegunda linha')\n",
    "display('\\nprimeira linha \\nsegunda linha')"
   ]
  },
  {
   "cell_type": "code",
   "execution_count": 10,
   "id": "6305afd9",
   "metadata": {},
   "outputs": [
    {
     "data": {
      "text/plain": [
       "10"
      ]
     },
     "execution_count": 10,
     "metadata": {},
     "output_type": "execute_result"
    }
   ],
   "source": [
    "2 * 5"
   ]
  },
  {
   "cell_type": "code",
   "execution_count": 11,
   "id": "53e52d80",
   "metadata": {},
   "outputs": [
    {
     "data": {
      "text/plain": [
       "11"
      ]
     },
     "execution_count": 11,
     "metadata": {},
     "output_type": "execute_result"
    }
   ],
   "source": [
    "#o underline significa que vai pegar o resultado executado na celula anterior\n",
    "_ + 1"
   ]
  },
  {
   "cell_type": "markdown",
   "id": "66f2d97d",
   "metadata": {},
   "source": [
    "texto simples\n",
    "*texto em itálico*\n",
    "**texto em negrito**\n",
    "***texto em negrito e itálico***\n",
    "também funciona igual usando underline __negrito__\n",
    "dessa forma **_funciona_**"
   ]
  },
  {
   "cell_type": "markdown",
   "id": "1204ab48",
   "metadata": {},
   "source": [
    "## Listas\n",
    "* item 1\n",
    "* item 2\n",
    "* item 3\n",
    "* item 4\n",
    "- item 5\n",
    "- item 6\n",
    "+ item 7\n",
    "+ item 8\n",
    "\n",
    "#dependendo do número que você colocar, ele vai criar a lista a partir dele\n",
    "#exemplo\n",
    "\n",
    "\n",
    "100. item\n",
    "2. item\n",
    "\n",
    "\n",
    "1. Primeiro\n",
    "2. Segundo\n",
    "3. Terceiro\n",
    "    1. Recuado\n",
    "    2. Recuado\n",
    "4. Quarto"
   ]
  },
  {
   "cell_type": "markdown",
   "id": "b8d0632e",
   "metadata": {},
   "source": [
    "### para mostrar o código: usar recuo de 4 espaços ou 1 tabulação\n",
    "    Inicio do código\n",
    "    <html>\n",
    "        <head>\n",
    "        <title> Título da página </title>\n",
    "    Fim do cógido"
   ]
  },
  {
   "cell_type": "markdown",
   "id": "7d2afa18",
   "metadata": {},
   "source": [
    ">Este texto será envolto pelo elemento HTML blockquote\n",
    ">>este fica aninhado"
   ]
  },
  {
   "cell_type": "markdown",
   "id": "52b9f55a",
   "metadata": {},
   "source": [
    "### crase para exibir códigos\n",
    "`print('código entre crases')`"
   ]
  },
  {
   "cell_type": "markdown",
   "id": "d5cb1197",
   "metadata": {},
   "source": [
    "### linhas horizontais\n",
    "---\n",
    "***"
   ]
  },
  {
   "cell_type": "markdown",
   "id": "c68c1966",
   "metadata": {},
   "source": [
    "### Links\n",
    "[Exemplo de link](https://google.com)"
   ]
  },
  {
   "cell_type": "markdown",
   "id": "5f695d86",
   "metadata": {},
   "source": [
    "### url\n",
    "<https://google.com>"
   ]
  },
  {
   "cell_type": "markdown",
   "id": "458e3639",
   "metadata": {},
   "source": [
    "### imagem\n",
    "![](link da imagem)"
   ]
  },
  {
   "cell_type": "code",
   "execution_count": null,
   "id": "42f2fadc",
   "metadata": {},
   "outputs": [],
   "source": [
    "#importando imagem com código python\n",
    "from IPython.display import Image\n",
    "imagem = Imagen('link')\n",
    "display(imagem)"
   ]
  },
  {
   "cell_type": "code",
   "execution_count": 12,
   "id": "4931ba3f",
   "metadata": {},
   "outputs": [
    {
     "data": {
      "application/json": {
       "cell": {
        "!": "OSMagics",
        "HTML": "Other",
        "SVG": "Other",
        "bash": "Other",
        "capture": "ExecutionMagics",
        "cmd": "Other",
        "debug": "ExecutionMagics",
        "file": "Other",
        "html": "DisplayMagics",
        "javascript": "DisplayMagics",
        "js": "DisplayMagics",
        "latex": "DisplayMagics",
        "markdown": "DisplayMagics",
        "perl": "Other",
        "prun": "ExecutionMagics",
        "pypy": "Other",
        "python": "Other",
        "python2": "Other",
        "python3": "Other",
        "ruby": "Other",
        "script": "ScriptMagics",
        "sh": "Other",
        "svg": "DisplayMagics",
        "sx": "OSMagics",
        "system": "OSMagics",
        "time": "ExecutionMagics",
        "timeit": "ExecutionMagics",
        "writefile": "OSMagics"
       },
       "line": {
        "alias": "OSMagics",
        "alias_magic": "BasicMagics",
        "autoawait": "AsyncMagics",
        "autocall": "AutoMagics",
        "automagic": "AutoMagics",
        "autosave": "KernelMagics",
        "bookmark": "OSMagics",
        "cd": "OSMagics",
        "clear": "KernelMagics",
        "cls": "KernelMagics",
        "colors": "BasicMagics",
        "conda": "PackagingMagics",
        "config": "ConfigMagics",
        "connect_info": "KernelMagics",
        "copy": "Other",
        "ddir": "Other",
        "debug": "ExecutionMagics",
        "dhist": "OSMagics",
        "dirs": "OSMagics",
        "doctest_mode": "BasicMagics",
        "echo": "Other",
        "ed": "Other",
        "edit": "KernelMagics",
        "env": "OSMagics",
        "gui": "BasicMagics",
        "hist": "Other",
        "history": "HistoryMagics",
        "killbgscripts": "ScriptMagics",
        "ldir": "Other",
        "less": "KernelMagics",
        "load": "CodeMagics",
        "load_ext": "ExtensionMagics",
        "loadpy": "CodeMagics",
        "logoff": "LoggingMagics",
        "logon": "LoggingMagics",
        "logstart": "LoggingMagics",
        "logstate": "LoggingMagics",
        "logstop": "LoggingMagics",
        "ls": "Other",
        "lsmagic": "BasicMagics",
        "macro": "ExecutionMagics",
        "magic": "BasicMagics",
        "matplotlib": "PylabMagics",
        "mkdir": "Other",
        "more": "KernelMagics",
        "notebook": "BasicMagics",
        "page": "BasicMagics",
        "pastebin": "CodeMagics",
        "pdb": "ExecutionMagics",
        "pdef": "NamespaceMagics",
        "pdoc": "NamespaceMagics",
        "pfile": "NamespaceMagics",
        "pinfo": "NamespaceMagics",
        "pinfo2": "NamespaceMagics",
        "pip": "PackagingMagics",
        "popd": "OSMagics",
        "pprint": "BasicMagics",
        "precision": "BasicMagics",
        "prun": "ExecutionMagics",
        "psearch": "NamespaceMagics",
        "psource": "NamespaceMagics",
        "pushd": "OSMagics",
        "pwd": "OSMagics",
        "pycat": "OSMagics",
        "pylab": "PylabMagics",
        "qtconsole": "KernelMagics",
        "quickref": "BasicMagics",
        "recall": "HistoryMagics",
        "rehashx": "OSMagics",
        "reload_ext": "ExtensionMagics",
        "ren": "Other",
        "rep": "Other",
        "rerun": "HistoryMagics",
        "reset": "NamespaceMagics",
        "reset_selective": "NamespaceMagics",
        "rmdir": "Other",
        "run": "ExecutionMagics",
        "save": "CodeMagics",
        "sc": "OSMagics",
        "set_env": "OSMagics",
        "store": "StoreMagics",
        "sx": "OSMagics",
        "system": "OSMagics",
        "tb": "ExecutionMagics",
        "time": "ExecutionMagics",
        "timeit": "ExecutionMagics",
        "unalias": "OSMagics",
        "unload_ext": "ExtensionMagics",
        "who": "NamespaceMagics",
        "who_ls": "NamespaceMagics",
        "whos": "NamespaceMagics",
        "xdel": "NamespaceMagics",
        "xmode": "BasicMagics"
       }
      },
      "text/plain": [
       "Available line magics:\n",
       "%alias  %alias_magic  %autoawait  %autocall  %automagic  %autosave  %bookmark  %cd  %clear  %cls  %colors  %conda  %config  %connect_info  %copy  %ddir  %debug  %dhist  %dirs  %doctest_mode  %echo  %ed  %edit  %env  %gui  %hist  %history  %killbgscripts  %ldir  %less  %load  %load_ext  %loadpy  %logoff  %logon  %logstart  %logstate  %logstop  %ls  %lsmagic  %macro  %magic  %matplotlib  %mkdir  %more  %notebook  %page  %pastebin  %pdb  %pdef  %pdoc  %pfile  %pinfo  %pinfo2  %pip  %popd  %pprint  %precision  %prun  %psearch  %psource  %pushd  %pwd  %pycat  %pylab  %qtconsole  %quickref  %recall  %rehashx  %reload_ext  %ren  %rep  %rerun  %reset  %reset_selective  %rmdir  %run  %save  %sc  %set_env  %store  %sx  %system  %tb  %time  %timeit  %unalias  %unload_ext  %who  %who_ls  %whos  %xdel  %xmode\n",
       "\n",
       "Available cell magics:\n",
       "%%!  %%HTML  %%SVG  %%bash  %%capture  %%cmd  %%debug  %%file  %%html  %%javascript  %%js  %%latex  %%markdown  %%perl  %%prun  %%pypy  %%python  %%python2  %%python3  %%ruby  %%script  %%sh  %%svg  %%sx  %%system  %%time  %%timeit  %%writefile\n",
       "\n",
       "Automagic is ON, % prefix IS NOT needed for line magics."
      ]
     },
     "execution_count": 12,
     "metadata": {},
     "output_type": "execute_result"
    }
   ],
   "source": [
    "#lista de comandos mágicos\n",
    "%lsmagic"
   ]
  },
  {
   "cell_type": "code",
   "execution_count": 14,
   "id": "3761fd86",
   "metadata": {},
   "outputs": [
    {
     "name": "stdout",
     "output_type": "stream",
     "text": [
      "Programa externo rodando..\n",
      "Programa externo rodando..\n"
     ]
    }
   ],
   "source": [
    "#como esta na mesma pasta somente o run funciona\n",
    "%run externo\n",
    "\n",
    "#caso esteja em outra pasta deve-se passar o caminho\n",
    "%run \"E:\\OneDrive - Castrolanda - Cooperativa Agroindustrial Ltda\\Treinamentos\\Data Science com Python\\Aula 3 - 12_11_2022\\externo.py\""
   ]
  },
  {
   "cell_type": "code",
   "execution_count": 19,
   "id": "50d3ff9b",
   "metadata": {},
   "outputs": [
    {
     "name": "stdout",
     "output_type": "stream",
     "text": [
      "CPU times: total: 328 ms\n",
      "Wall time: 325 ms\n"
     ]
    }
   ],
   "source": [
    "%%time\n",
    "import random\n",
    "for i in range(1000000):\n",
    "    random.random()"
   ]
  },
  {
   "cell_type": "code",
   "execution_count": 20,
   "id": "c9b0d360",
   "metadata": {},
   "outputs": [
    {
     "name": "stdout",
     "output_type": "stream",
     "text": [
      "a\t b\t i\t nome\t pi\t random\t \n"
     ]
    }
   ],
   "source": [
    "a, b, pi, nome = 1, 2, 3.14, 'ze'\n",
    "%who"
   ]
  },
  {
   "cell_type": "code",
   "execution_count": 22,
   "id": "03a2680e",
   "metadata": {},
   "outputs": [
    {
     "data": {
      "text/plain": [
       "{'ALLUSERSPROFILE': 'C:\\\\ProgramData',\n",
       " 'APPDATA': 'C:\\\\Users\\\\diegoa01\\\\AppData\\\\Roaming',\n",
       " 'COMMONPROGRAMFILES': 'C:\\\\Program Files\\\\Common Files',\n",
       " 'COMMONPROGRAMFILES(X86)': 'C:\\\\Program Files (x86)\\\\Common Files',\n",
       " 'COMMONPROGRAMW6432': 'C:\\\\Program Files\\\\Common Files',\n",
       " 'COMPUTERNAME': 'CTR01CP-N-00614',\n",
       " 'COMSPEC': 'C:\\\\windows\\\\system32\\\\cmd.exe',\n",
       " 'CONDA_DEFAULT_ENV': 'base',\n",
       " 'CONDA_EXE': 'C:\\\\Users\\\\diegoa01\\\\Anaconda3\\\\Scripts\\\\conda.exe',\n",
       " 'CONDA_PREFIX': 'C:\\\\Users\\\\diegoa01\\\\Anaconda3',\n",
       " 'CONDA_PROMPT_MODIFIER': '(base) ',\n",
       " 'CONDA_PYTHON_EXE': 'C:\\\\Users\\\\diegoa01\\\\Anaconda3\\\\python.exe',\n",
       " 'CONDA_SHLVL': '1',\n",
       " 'DRIVERDATA': 'C:\\\\Windows\\\\System32\\\\Drivers\\\\DriverData',\n",
       " 'FPS_BROWSER_APP_PROFILE_STRING': 'Internet Explorer',\n",
       " 'FPS_BROWSER_USER_PROFILE_STRING': 'Default',\n",
       " 'HOMEDRIVE': 'C:',\n",
       " 'HOMEPATH': '\\\\Users\\\\diegoa01',\n",
       " 'KEAAGENT': '\"C:\\\\Program Files (x86)\\\\Kaspersky Lab\\\\Endpoint Agent\\\\agent.exe\"',\n",
       " 'LOCALAPPDATA': 'C:\\\\Users\\\\diegoa01\\\\AppData\\\\Local',\n",
       " 'LOGONSERVER': '\\\\\\\\VM242',\n",
       " 'NUMBER_OF_PROCESSORS': '8',\n",
       " 'ONEDRIVE': 'E:\\\\OneDrive - Castrolanda - Cooperativa Agroindustrial Ltda',\n",
       " 'ONEDRIVECOMMERCIAL': 'E:\\\\OneDrive - Castrolanda - Cooperativa Agroindustrial Ltda',\n",
       " 'OS': 'Windows_NT',\n",
       " 'PATH': 'C:\\\\Users\\\\diegoa01\\\\Anaconda3;C:\\\\Users\\\\diegoa01\\\\Anaconda3\\\\Library\\\\mingw-w64\\\\bin;C:\\\\Users\\\\diegoa01\\\\Anaconda3\\\\Library\\\\usr\\\\bin;C:\\\\Users\\\\diegoa01\\\\Anaconda3\\\\Library\\\\bin;C:\\\\Users\\\\diegoa01\\\\Anaconda3\\\\Scripts;C:\\\\Users\\\\diegoa01\\\\Anaconda3\\\\bin;C:\\\\Users\\\\diegoa01\\\\Anaconda3\\\\condabin;C:\\\\HOME11\\\\product\\\\bin;C:\\\\ora6i\\\\bin;C:\\\\Program Files (x86)\\\\Common Files\\\\Oracle\\\\Java\\\\javapath;C:\\\\windows\\\\system32;C:\\\\windows;C:\\\\windows\\\\System32\\\\Wbem;C:\\\\windows\\\\System32\\\\WindowsPowerShell\\\\v1.0;C:\\\\windows\\\\System32\\\\OpenSSH;C:\\\\ora6i\\\\jdk\\\\bin;C:\\\\Program Files\\\\dotnet;C:\\\\Program Files (x86)\\\\Kaspersky Lab\\\\Endpoint Agent;C:\\\\Users\\\\diegoa01\\\\AppData\\\\Local\\\\Programs\\\\Python\\\\Launcher;C:\\\\Users\\\\diegoa01\\\\AppData\\\\Local\\\\Microsoft\\\\WindowsApps;.;C:\\\\Users\\\\diegoa01\\\\AppData\\\\Local\\\\Programs\\\\Microsoft VS Code\\\\bin',\n",
       " 'PATHEXT': '.COM;.EXE;.BAT;.CMD;.VBS;.VBE;.JS;.JSE;.WSF;.WSH;.MSC',\n",
       " 'PENTAHO_JAVA_HOME': 'C:\\\\Program Files\\\\Java\\\\jre1.8.0_333',\n",
       " 'PROCESSOR_ARCHITECTURE': 'AMD64',\n",
       " 'PROCESSOR_IDENTIFIER': 'Intel64 Family 6 Model 140 Stepping 1, GenuineIntel',\n",
       " 'PROCESSOR_LEVEL': '6',\n",
       " 'PROCESSOR_REVISION': '8c01',\n",
       " 'PROGRAMDATA': 'C:\\\\ProgramData',\n",
       " 'PROGRAMFILES': 'C:\\\\Program Files',\n",
       " 'PROGRAMFILES(X86)': 'C:\\\\Program Files (x86)',\n",
       " 'PROGRAMW6432': 'C:\\\\Program Files',\n",
       " 'PROMPT': '(base) $P$G',\n",
       " 'PSMODULEPATH': 'C:\\\\Program Files\\\\WindowsPowerShell\\\\Modules;C:\\\\windows\\\\system32\\\\WindowsPowerShell\\\\v1.0\\\\Modules',\n",
       " 'PUBLIC': 'C:\\\\Users\\\\Public',\n",
       " 'SESSIONNAME': 'Console',\n",
       " 'SYSTEMDRIVE': 'C:',\n",
       " 'SYSTEMROOT': 'C:\\\\windows',\n",
       " 'TEMP': 'C:\\\\Users\\\\diegoa01\\\\AppData\\\\Local\\\\Temp',\n",
       " 'TMP': 'C:\\\\Users\\\\diegoa01\\\\AppData\\\\Local\\\\Temp',\n",
       " 'TNS_ADMIN': '\\\\\\\\castrolanda.com.br\\\\netlogon\\\\TNSADMIN',\n",
       " 'UATDATA': 'C:\\\\windows\\\\CCM\\\\UATData\\\\D9F8C395-CAB8-491d-B8AC-179A1FE1BE77',\n",
       " 'USERDNSDOMAIN': 'CASTROLANDA.COM.BR',\n",
       " 'USERDOMAIN': 'CASTROLANDA',\n",
       " 'USERDOMAIN_ROAMINGPROFILE': 'CASTROLANDA',\n",
       " 'USERNAME': 'diegoa01',\n",
       " 'USERPROFILE': 'C:\\\\Users\\\\diegoa01',\n",
       " 'WINDIR': 'C:\\\\windows',\n",
       " 'ZES_ENABLE_SYSMAN': '1',\n",
       " 'PYDEVD_USE_FRAME_EVAL': 'NO',\n",
       " 'JPY_INTERRUPT_EVENT': '2744',\n",
       " 'IPY_INTERRUPT_EVENT': '2744',\n",
       " 'JPY_PARENT_PID': '2740',\n",
       " 'TERM': 'xterm-color',\n",
       " 'CLICOLOR': '1',\n",
       " 'PAGER': 'cat',\n",
       " 'GIT_PAGER': 'cat',\n",
       " 'MPLBACKEND': 'module://matplotlib_inline.backend_inline'}"
      ]
     },
     "execution_count": 22,
     "metadata": {},
     "output_type": "execute_result"
    }
   ],
   "source": [
    "%env"
   ]
  },
  {
   "cell_type": "code",
   "execution_count": 23,
   "id": "34d05bbe",
   "metadata": {},
   "outputs": [
    {
     "data": {
      "text/plain": [
       "'C:\\\\Users\\\\diegoa01\\\\Anaconda3;C:\\\\Users\\\\diegoa01\\\\Anaconda3\\\\Library\\\\mingw-w64\\\\bin;C:\\\\Users\\\\diegoa01\\\\Anaconda3\\\\Library\\\\usr\\\\bin;C:\\\\Users\\\\diegoa01\\\\Anaconda3\\\\Library\\\\bin;C:\\\\Users\\\\diegoa01\\\\Anaconda3\\\\Scripts;C:\\\\Users\\\\diegoa01\\\\Anaconda3\\\\bin;C:\\\\Users\\\\diegoa01\\\\Anaconda3\\\\condabin;C:\\\\HOME11\\\\product\\\\bin;C:\\\\ora6i\\\\bin;C:\\\\Program Files (x86)\\\\Common Files\\\\Oracle\\\\Java\\\\javapath;C:\\\\windows\\\\system32;C:\\\\windows;C:\\\\windows\\\\System32\\\\Wbem;C:\\\\windows\\\\System32\\\\WindowsPowerShell\\\\v1.0;C:\\\\windows\\\\System32\\\\OpenSSH;C:\\\\ora6i\\\\jdk\\\\bin;C:\\\\Program Files\\\\dotnet;C:\\\\Program Files (x86)\\\\Kaspersky Lab\\\\Endpoint Agent;C:\\\\Users\\\\diegoa01\\\\AppData\\\\Local\\\\Programs\\\\Python\\\\Launcher;C:\\\\Users\\\\diegoa01\\\\AppData\\\\Local\\\\Microsoft\\\\WindowsApps;.;C:\\\\Users\\\\diegoa01\\\\AppData\\\\Local\\\\Programs\\\\Microsoft VS Code\\\\bin'"
      ]
     },
     "execution_count": 23,
     "metadata": {},
     "output_type": "execute_result"
    }
   ],
   "source": [
    "%env path"
   ]
  },
  {
   "cell_type": "code",
   "execution_count": null,
   "id": "8db10e15",
   "metadata": {},
   "outputs": [],
   "source": []
  },
  {
   "cell_type": "code",
   "execution_count": null,
   "id": "75023751",
   "metadata": {},
   "outputs": [],
   "source": []
  },
  {
   "cell_type": "code",
   "execution_count": null,
   "id": "ef771a94",
   "metadata": {},
   "outputs": [],
   "source": []
  },
  {
   "cell_type": "code",
   "execution_count": null,
   "id": "caa4c5fa",
   "metadata": {},
   "outputs": [],
   "source": []
  }
 ],
 "metadata": {
  "kernelspec": {
   "display_name": "Python 3 (ipykernel)",
   "language": "python",
   "name": "python3"
  },
  "language_info": {
   "codemirror_mode": {
    "name": "ipython",
    "version": 3
   },
   "file_extension": ".py",
   "mimetype": "text/x-python",
   "name": "python",
   "nbconvert_exporter": "python",
   "pygments_lexer": "ipython3",
   "version": "3.9.12"
  }
 },
 "nbformat": 4,
 "nbformat_minor": 5
}
