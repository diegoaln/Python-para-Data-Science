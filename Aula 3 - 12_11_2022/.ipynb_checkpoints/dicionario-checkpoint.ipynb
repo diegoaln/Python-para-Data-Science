{
 "cells": [
  {
   "cell_type": "markdown",
   "id": "46ced280",
   "metadata": {},
   "source": [
    "# Dicionário de dados\n",
    "##### Dicionário são conjuntos formados pro chave:valor (key:value)\n",
    "##### A chave também pode ser chamada de rótulo e pode ser string ou numérica\n",
    "##### O valor pode ser string, numérico ou uma lista, assim conjunto será formado de lista com rótulos\n",
    "\n",
    "##### Exemplo: {chave1: valor1, chave2: valor2"
   ]
  },
  {
   "cell_type": "code",
   "execution_count": 2,
   "id": "13e2b9df",
   "metadata": {},
   "outputs": [
    {
     "name": "stdout",
     "output_type": "stream",
     "text": [
      "{'a': 1, 'b': 2}\n"
     ]
    }
   ],
   "source": [
    "#cria um dicionário\n",
    "meu_dic = {'a' : 1, 'b' : 2 }\n",
    "print(meu_dic)"
   ]
  },
  {
   "cell_type": "code",
   "execution_count": 3,
   "id": "93211e59",
   "metadata": {},
   "outputs": [
    {
     "name": "stdout",
     "output_type": "stream",
     "text": [
      "1\n",
      "2\n",
      "{'a': 1, 'b': 2, 'c': 3}\n",
      "3\n"
     ]
    }
   ],
   "source": [
    "#mostra valor\n",
    "print(meu_dic['a'])\n",
    "print(meu_dic['b'])\n",
    "\n",
    "#adiciona chave:valor\n",
    "meu_dic['c'] = 3\n",
    "print(meu_dic)\n",
    "\n",
    "# outra forma de mostrar valor\n",
    "print(meu_dic.get('c'))"
   ]
  }
 ],
 "metadata": {
  "kernelspec": {
   "display_name": "Python 3 (ipykernel)",
   "language": "python",
   "name": "python3"
  },
  "language_info": {
   "codemirror_mode": {
    "name": "ipython",
    "version": 3
   },
   "file_extension": ".py",
   "mimetype": "text/x-python",
   "name": "python",
   "nbconvert_exporter": "python",
   "pygments_lexer": "ipython3",
   "version": "3.9.12"
  }
 },
 "nbformat": 4,
 "nbformat_minor": 5
}
