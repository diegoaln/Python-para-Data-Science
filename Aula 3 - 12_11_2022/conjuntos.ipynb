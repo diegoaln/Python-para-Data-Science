{
 "cells": [
  {
   "cell_type": "markdown",
   "id": "2527fd7e",
   "metadata": {},
   "source": [
    "## um conjunto é uma coleção desordenada de elementos, sem repetição"
   ]
  },
  {
   "cell_type": "code",
   "execution_count": 14,
   "id": "df2c188f",
   "metadata": {},
   "outputs": [
    {
     "data": {
      "text/plain": [
       "{'banana', 'laranja', 'uva'}"
      ]
     },
     "metadata": {},
     "output_type": "display_data"
    },
    {
     "data": {
      "text/plain": [
       "{'banana', 'kiwi', 'laranja', 'uva'}"
      ]
     },
     "metadata": {},
     "output_type": "display_data"
    },
    {
     "data": {
      "text/plain": [
       "{'kiwi', 'laranja', 'uva'}"
      ]
     },
     "metadata": {},
     "output_type": "display_data"
    },
    {
     "name": "stdout",
     "output_type": "stream",
     "text": [
      "3\n"
     ]
    }
   ],
   "source": [
    "frutas = {'uva', 'laranja', 'uva', 'banana', 'uva', 'banana'}\n",
    "display(frutas)\n",
    "frutas.add('kiwi')\n",
    "display(frutas)\n",
    "frutas.remove('banana')\n",
    "display(frutas)\n",
    "print(len(frutas))"
   ]
  },
  {
   "cell_type": "code",
   "execution_count": 15,
   "id": "3162b6a7",
   "metadata": {
    "scrolled": true
   },
   "outputs": [
    {
     "name": "stdout",
     "output_type": "stream",
     "text": [
      "True\n",
      "True\n"
     ]
    }
   ],
   "source": [
    "#existe uva em frutas?\n",
    "print('uva' in frutas)\n",
    "\n",
    "#não existe banana em frutas\n",
    "print('banana' not in frutas)"
   ]
  },
  {
   "cell_type": "code",
   "execution_count": 17,
   "id": "3071b838",
   "metadata": {},
   "outputs": [
    {
     "name": "stdout",
     "output_type": "stream",
     "text": [
      "uva\n",
      "laranja\n",
      "kiwi\n"
     ]
    }
   ],
   "source": [
    "#percorrendo um conjunto\n",
    "for f in frutas:\n",
    "    print(f)"
   ]
  },
  {
   "cell_type": "code",
   "execution_count": 21,
   "id": "fcc683d3",
   "metadata": {},
   "outputs": [
    {
     "name": "stdout",
     "output_type": "stream",
     "text": [
      "['uva', 'laranja', 'kiwi']\n",
      "('uva', 'laranja', 'kiwi')\n"
     ]
    }
   ],
   "source": [
    "#conjunto para lista\n",
    "print(list(frutas))\n",
    "#conjunto para tuple\n",
    "print(tuple(frutas))"
   ]
  },
  {
   "cell_type": "code",
   "execution_count": 22,
   "id": "86ded058",
   "metadata": {},
   "outputs": [
    {
     "name": "stdout",
     "output_type": "stream",
     "text": [
      "{'b', 'd', 'c', 'a', 'r'}\n"
     ]
    }
   ],
   "source": [
    "#criando um conjunto a partir de um construtor\n",
    "a = set('abracadabra')\n",
    "print(a)"
   ]
  },
  {
   "cell_type": "code",
   "execution_count": 28,
   "id": "28dce15b",
   "metadata": {},
   "outputs": [
    {
     "name": "stdout",
     "output_type": "stream",
     "text": [
      "['r', 'd', 'r']\n"
     ]
    },
    {
     "data": {
      "text/plain": [
       "list"
      ]
     },
     "execution_count": 28,
     "metadata": {},
     "output_type": "execute_result"
    }
   ],
   "source": [
    "#mostra caracteres não contidos em abc usando list comprehension\n",
    "c = [x for x in 'abracadabra' if x not in 'abc']\n",
    "print(c)\n",
    "type(c)"
   ]
  },
  {
   "cell_type": "code",
   "execution_count": 25,
   "id": "8a2027b3",
   "metadata": {},
   "outputs": [
    {
     "name": "stdout",
     "output_type": "stream",
     "text": [
      "d r "
     ]
    }
   ],
   "source": [
    "#mostra caracteres não contidos em abc usando list comprehension\n",
    "for x in 'abacadabra':\n",
    "    if x not in 'abc':\n",
    "        print(x, end = ' ')"
   ]
  },
  {
   "cell_type": "code",
   "execution_count": 27,
   "id": "fc0fc502",
   "metadata": {},
   "outputs": [
    {
     "name": "stdout",
     "output_type": "stream",
     "text": [
      "{'r', 'd'}\n"
     ]
    },
    {
     "data": {
      "text/plain": [
       "set"
      ]
     },
     "execution_count": 27,
     "metadata": {},
     "output_type": "execute_result"
    }
   ],
   "source": [
    "#mostra caracteres não contidos em abc usando set comprehension\n",
    "c = {x for x in 'abracadabra' if x not in 'abc'}\n",
    "print(c)\n",
    "type(c)\n",
    "#set é um conjunto!!"
   ]
  },
  {
   "cell_type": "code",
   "execution_count": 29,
   "id": "65c0ade7",
   "metadata": {},
   "outputs": [
    {
     "name": "stdout",
     "output_type": "stream",
     "text": [
      "{'bmw', 'volvo'}\n"
     ]
    }
   ],
   "source": [
    "#cria um conjunto vazio\n",
    "carros = set()\n",
    "carros.add('bmw')\n",
    "carros.add('volvo')\n",
    "print(carros)"
   ]
  },
  {
   "cell_type": "code",
   "execution_count": 35,
   "id": "ee1e498a",
   "metadata": {},
   "outputs": [
    {
     "name": "stdout",
     "output_type": "stream",
     "text": [
      "{1, 2, 3}\n",
      "{1, 2, 3}\n",
      "{1, 3}\n"
     ]
    }
   ],
   "source": [
    "# converte lista em conjunto\n",
    "num = [1,2,2,3,3,3]\n",
    "print(set(num))\n",
    "\n",
    "#operações sobre conjunto\n",
    "conj_num = set()\n",
    "for x in num:\n",
    "    conj_num.add(x)\n",
    "print(conj_num)\n",
    "\n",
    "\n",
    "conj_num.remove(2)\n",
    "#conj_num.remove(4) # erro: elemento não existe\n",
    "conj_num.discard(4) # remove caso exista\n",
    "print(conj_num)"
   ]
  },
  {
   "cell_type": "code",
   "execution_count": 37,
   "id": "f61064da",
   "metadata": {},
   "outputs": [
    {
     "name": "stdout",
     "output_type": "stream",
     "text": [
      "{0, 1, 2, 3, 4, 5, 6, 7, 8, 9}\n",
      "{0, 1, 2, 3, 4, 5, 6, 7, 8, 9}\n"
     ]
    }
   ],
   "source": [
    "#união de conjuntos\n",
    "A = {0,1,3,5,7,9}\n",
    "B = {0, 2,4,6,8}\n",
    "C = A.union(B)\n",
    "print(C)\n",
    "\n",
    "#modo alternativo\n",
    "D = A | B\n",
    "print(D)"
   ]
  },
  {
   "cell_type": "code",
   "execution_count": 38,
   "id": "d15e49f1",
   "metadata": {},
   "outputs": [
    {
     "name": "stdout",
     "output_type": "stream",
     "text": [
      "{0}\n",
      "{0}\n"
     ]
    }
   ],
   "source": [
    "#interseção de conjuntos\n",
    "C = A.intersection(B)\n",
    "print(C)\n",
    "\n",
    "C = A & B\n",
    "print(C)"
   ]
  },
  {
   "cell_type": "code",
   "execution_count": 39,
   "id": "bc5601a7",
   "metadata": {},
   "outputs": [
    {
     "name": "stdout",
     "output_type": "stream",
     "text": [
      "False\n",
      "True\n"
     ]
    }
   ],
   "source": [
    "#comparação de conjuntos\n",
    "cidade1 = {'pg', 'castro'}\n",
    "cidade2 = {'curitiba', 'pg', 'guarapuva', 'castro'}\n",
    "cidade3 = {'são paulo', 'florianópolis'}\n",
    "\n",
    "print(cidade1 == cidade2)\n",
    "print(cidade1 != cidade2)"
   ]
  },
  {
   "cell_type": "code",
   "execution_count": 41,
   "id": "e8d0268c",
   "metadata": {},
   "outputs": [
    {
     "name": "stdout",
     "output_type": "stream",
     "text": [
      "True\n",
      "True\n",
      "True\n",
      "True\n"
     ]
    }
   ],
   "source": [
    "#cidade1 é um subconjunto de cidade2?\n",
    "print(cidade1 < cidade2)\n",
    "print(cidade1 < cidade2)\n",
    "\n",
    "print(cidade2 > cidade1)\n",
    "\n",
    "#é igual ou é um subconjunto\n",
    "print(cidade1 <= cidade2)\n"
   ]
  },
  {
   "cell_type": "code",
   "execution_count": 43,
   "id": "8ab815a1",
   "metadata": {},
   "outputs": [
    {
     "name": "stdout",
     "output_type": "stream",
     "text": [
      "{'curitiba', 'guarapuva'}\n",
      "{'curitiba', 'guarapuva'}\n"
     ]
    }
   ],
   "source": [
    "#diferença de conjuntos\n",
    "print(cidade2 - cidade1)\n",
    "print(cidade2.difference(cidade1))"
   ]
  },
  {
   "cell_type": "code",
   "execution_count": 44,
   "id": "b9d254db",
   "metadata": {},
   "outputs": [
    {
     "name": "stdout",
     "output_type": "stream",
     "text": [
      "False\n",
      "True\n"
     ]
    }
   ],
   "source": [
    "#disjuntos: conjuntos que não possuem nehum elemento em comum\n",
    "print(cidade2.isdisjoint(cidade1))\n",
    "print(cidade2.isdisjoint(cidade3))"
   ]
  },
  {
   "cell_type": "code",
   "execution_count": 46,
   "id": "9b4ae0c2",
   "metadata": {},
   "outputs": [
    {
     "name": "stdout",
     "output_type": "stream",
     "text": [
      "{'florianópolis', 'pg', 'são paulo', 'castro'}\n"
     ]
    }
   ],
   "source": [
    "#operação de união e atribuição\n",
    "cidade1 |= cidade3 # junta 1 com 3  e salva em 1\n",
    "print(cidade1)\n",
    "\n",
    "#ou usando update\n",
    "#cidade1.update(cidade3)"
   ]
  },
  {
   "cell_type": "code",
   "execution_count": 47,
   "id": "0847671a",
   "metadata": {},
   "outputs": [
    {
     "name": "stdout",
     "output_type": "stream",
     "text": [
      "{'florianópolis', 'são paulo'}\n"
     ]
    }
   ],
   "source": [
    "#copiando conjunto\n",
    "cidade4 = cidade3.copy()\n",
    "print(cidade4)"
   ]
  },
  {
   "cell_type": "code",
   "execution_count": 49,
   "id": "09ce3d2c",
   "metadata": {},
   "outputs": [
    {
     "name": "stdout",
     "output_type": "stream",
     "text": [
      "frozenset({'mercúrio', 'terra', 'vênus'})\n"
     ]
    }
   ],
   "source": [
    "#Frozenset: é um conjunto imutável\n",
    "planetas = frozenset(['mercúrio', 'vênus', 'terra'])\n",
    "print(planetas)"
   ]
  },
  {
   "cell_type": "markdown",
   "id": "94cb3bb0",
   "metadata": {},
   "source": [
    "## Atenção: \n",
    "### Isto não é um conjunto,  é um dicionário"
   ]
  },
  {
   "cell_type": "code",
   "execution_count": 50,
   "id": "e2a0aaf8",
   "metadata": {},
   "outputs": [
    {
     "name": "stdout",
     "output_type": "stream",
     "text": [
      "<class 'dict'>\n"
     ]
    }
   ],
   "source": [
    "x = {}\n",
    "print(type(x))"
   ]
  }
 ],
 "metadata": {
  "kernelspec": {
   "display_name": "Python 3 (ipykernel)",
   "language": "python",
   "name": "python3"
  },
  "language_info": {
   "codemirror_mode": {
    "name": "ipython",
    "version": 3
   },
   "file_extension": ".py",
   "mimetype": "text/x-python",
   "name": "python",
   "nbconvert_exporter": "python",
   "pygments_lexer": "ipython3",
   "version": "3.9.12"
  }
 },
 "nbformat": 4,
 "nbformat_minor": 5
}
