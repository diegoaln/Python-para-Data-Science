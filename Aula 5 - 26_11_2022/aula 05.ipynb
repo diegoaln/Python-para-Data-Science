{
 "cells": [
  {
   "cell_type": "markdown",
   "id": "61a6673e",
   "metadata": {},
   "source": [
    "### criação de módulos e funções"
   ]
  },
  {
   "cell_type": "code",
   "execution_count": 1,
   "id": "4132383e",
   "metadata": {
    "scrolled": true
   },
   "outputs": [],
   "source": [
    "# define uma função sem parâmetros\n",
    "def hello():\n",
    "    print('Hello World')"
   ]
  },
  {
   "cell_type": "code",
   "execution_count": 2,
   "id": "2d7b0d6c",
   "metadata": {
    "scrolled": true
   },
   "outputs": [
    {
     "name": "stdout",
     "output_type": "stream",
     "text": [
      "Hello World\n"
     ]
    }
   ],
   "source": [
    "#chama função\n",
    "hello()"
   ]
  },
  {
   "cell_type": "code",
   "execution_count": 10,
   "id": "f9629aa6",
   "metadata": {
    "scrolled": true
   },
   "outputs": [],
   "source": [
    "#função com parametro obrigatório\n",
    "def Bomdia(nome):\n",
    "    print('bom dia', nome)"
   ]
  },
  {
   "cell_type": "code",
   "execution_count": 11,
   "id": "7d0ce321",
   "metadata": {
    "scrolled": true
   },
   "outputs": [
    {
     "name": "stdout",
     "output_type": "stream",
     "text": [
      "bom dia diego\n"
     ]
    }
   ],
   "source": [
    "Bomdia('diego')"
   ]
  },
  {
   "cell_type": "code",
   "execution_count": 12,
   "id": "6a7e1c08",
   "metadata": {
    "scrolled": true
   },
   "outputs": [],
   "source": [
    "#função com parâmetro opcional\n",
    "def olafulano(nome = 'Alberto'):\n",
    "    print('Olá',nome)"
   ]
  },
  {
   "cell_type": "code",
   "execution_count": 13,
   "id": "6fcfea93",
   "metadata": {
    "scrolled": true
   },
   "outputs": [
    {
     "name": "stdout",
     "output_type": "stream",
     "text": [
      "Olá Alberto\n"
     ]
    }
   ],
   "source": [
    "olafulano()"
   ]
  },
  {
   "cell_type": "code",
   "execution_count": 14,
   "id": "c304e889",
   "metadata": {
    "scrolled": true
   },
   "outputs": [
    {
     "name": "stdout",
     "output_type": "stream",
     "text": [
      "Olá Ana Maria\n"
     ]
    }
   ],
   "source": [
    "olafulano('Ana Maria')"
   ]
  },
  {
   "cell_type": "markdown",
   "id": "ec0ee7cd",
   "metadata": {},
   "source": [
    "### Importando o módulo com o atalho"
   ]
  },
  {
   "cell_type": "code",
   "execution_count": 23,
   "id": "6a55b760",
   "metadata": {
    "scrolled": true
   },
   "outputs": [
    {
     "name": "stdout",
     "output_type": "stream",
     "text": [
      "Área do círculo:  78.5\n",
      "Área do retângulo:  24\n"
     ]
    }
   ],
   "source": [
    "#normalmente não precisa estas duas linhas\n",
    "import sys\n",
    "sys.path.append('..') #caminho atual para importar calculos\n",
    "\n",
    "\n",
    "\n",
    "import calculos as calc\n",
    "\n",
    "c = calc.area_circulo(5)\n",
    "print('Área do círculo: ', c)\n",
    "\n",
    "r = calc.area_retangulo(4,6)\n",
    "print('Área do retângulo: ', r)"
   ]
  },
  {
   "cell_type": "markdown",
   "id": "05ef46b7",
   "metadata": {},
   "source": [
    "###  Importando módulo com funções"
   ]
  },
  {
   "cell_type": "code",
   "execution_count": 24,
   "id": "8ada87aa",
   "metadata": {
    "scrolled": true
   },
   "outputs": [
    {
     "name": "stdout",
     "output_type": "stream",
     "text": [
      "Área do círculo:  78.5\n",
      "Área do retângulo:  24\n"
     ]
    }
   ],
   "source": [
    "from calculos import area_circulo, area_retangulo\n",
    "\n",
    "c = area_circulo(5)\n",
    "print('Área do círculo: ', c)\n",
    "\n",
    "r = area_retangulo(4,6)\n",
    "print('Área do retângulo: ', r)"
   ]
  },
  {
   "cell_type": "markdown",
   "id": "c1d4a644",
   "metadata": {},
   "source": [
    "### Leitura de arquivos de dados: .py, .txt, .csv, .xls"
   ]
  },
  {
   "cell_type": "raw",
   "id": "5c70dc9b",
   "metadata": {},
   "source": [
    "# %load https://softgraf.com/cursodatascience/cores.txt\n",
    "Cor\tValor\n",
    "Vermelh\t1\n",
    "Laranja\t2\n",
    "Amarelo\t3\n",
    "Verde\t4\n",
    "Azul\t5\n",
    "Purpura\t6\n",
    "Cinza\t7\n",
    "Preto\t8\n",
    "Branco\t9"
   ]
  },
  {
   "cell_type": "raw",
   "id": "667d87eb",
   "metadata": {},
   "source": [
    "# %load https://softgraf.com/cursodatascience/XMLData.xml\n",
    "<MyDataset>\n",
    "    <Record>\n",
    "        <Number>1</Number>\n",
    "        <String>Primeiro</String>\n",
    "        <Boolean>True</Boolean>\n",
    "    </Record>\n",
    "    <Record>\n",
    "        <Number>2</Number>\n",
    "        <String>Segundo</String>\n",
    "        <Boolean>False</Boolean>\n",
    "    </Record>\n",
    "    <Record>\n",
    "        <Number>3</Number>\n",
    "        <String>Terceiro</String>\n",
    "        <Boolean>True</Boolean>\n",
    "    </Record>\n",
    "    <Record>\n",
    "        <Number>4</Number>\n",
    "        <String>Quarto</String>\n",
    "        <Boolean>False</Boolean>\n",
    "    </Record>\n",
    "</MyDataset>"
   ]
  },
  {
   "cell_type": "code",
   "execution_count": 28,
   "id": "e6cbe502",
   "metadata": {
    "scrolled": true
   },
   "outputs": [
    {
     "data": {
      "image/png": "[encoded data removed]",
      "text/plain": [
       "<Figure size 432x288 with 1 Axes>"
      ]
     },
     "metadata": {
      "needs_background": "light"
     },
     "output_type": "display_data"
    },
    {
     "data": {
      "text/plain": [
       "<function matplotlib.pyplot.show(close=None, block=None)>"
      ]
     },
     "execution_count": 28,
     "metadata": {},
     "output_type": "execute_result"
    }
   ],
   "source": [
    "# %load https://matplotlib.org/_downloads/pyplot_text.py\n",
    "\"\"\"\n",
    "===========\n",
    "Pyplot Text\n",
    "===========\n",
    "\n",
    "\"\"\"\n",
    "import numpy as np\n",
    "import matplotlib.pyplot as plt\n",
    "\n",
    "# Fixing random state for reproducibility\n",
    "np.random.seed(19680801)\n",
    "\n",
    "mu, sigma = 100, 15\n",
    "x = mu + sigma * np.random.randn(10000)\n",
    "\n",
    "# the histogram of the data\n",
    "n, bins, patches = plt.hist(x, 50, density=True, facecolor='g', alpha=0.75)\n",
    "\n",
    "\n",
    "plt.xlabel('Smarts')\n",
    "plt.ylabel('Probability')\n",
    "plt.title('Histogram of IQ')\n",
    "plt.text(60, .025, r'$\\mu=100,\\ \\sigma=15$')\n",
    "plt.axis([40, 160, 0, 0.03])\n",
    "plt.grid(True)\n",
    "plt.show()\n",
    "\n",
    "#############################################################################\n",
    "#\n",
    "# ------------\n",
    "#\n",
    "# References\n",
    "# \"\"\"\"\"\"\"\"\"\"\n",
    "#\n",
    "# The use of the following functions, methods, classes and modules is shown\n",
    "# in this example:\n",
    "\n",
    "import matplotlib\n",
    "matplotlib.pyplot.hist\n",
    "matplotlib.pyplot.xlabel\n",
    "matplotlib.pyplot.ylabel\n",
    "matplotlib.pyplot.text\n",
    "matplotlib.pyplot.grid\n",
    "matplotlib.pyplot.show\n"
   ]
  },
  {
   "cell_type": "markdown",
   "id": "26a1f5c4",
   "metadata": {},
   "source": [
    "### Lendo arquivo de texto estruturado"
   ]
  },
  {
   "cell_type": "code",
   "execution_count": 30,
   "id": "b70c39ec",
   "metadata": {
    "scrolled": true
   },
   "outputs": [
    {
     "name": "stdout",
     "output_type": "stream",
     "text": [
      "Conteúdo do arquivo: \n",
      "Cor\tValor\n",
      "Vermelh\t1\n",
      "Laranja\t2\n",
      "Amarelo\t3\n",
      "Verde\t4\n",
      "Azul\t5\n",
      "Purpura\t6\n",
      "Cinza\t7\n",
      "Preto\t8\n",
      "Branco\t9\n"
     ]
    }
   ],
   "source": [
    "with open('cores.txt') as arq:\n",
    "    #read le todo o conteudo de uma única vez\n",
    "    print('Conteúdo do arquivo: \\n' + arq.read())"
   ]
  },
  {
   "cell_type": "code",
   "execution_count": 31,
   "id": "61c9d62f",
   "metadata": {
    "scrolled": true
   },
   "outputs": [
    {
     "name": "stdout",
     "output_type": "stream",
     "text": [
      "Cor\tValor\n",
      "Vermelh\t1\n",
      "Laranja\t2\n",
      "Amarelo\t3\n",
      "Verde\t4\n",
      "Azul\t5\n",
      "Purpura\t6\n",
      "Cinza\t7\n",
      "Preto\t8\n",
      "Branco\t9"
     ]
    }
   ],
   "source": [
    "#arquivos grandes podem não caber na memória, então usamos streaming\n",
    "with open('cores.txt') as arq:\n",
    "    #le o arquivo de linha em linha\n",
    "    for linha in arq:\n",
    "        print(linha, end='')"
   ]
  },
  {
   "cell_type": "code",
   "execution_count": 34,
   "id": "86773968",
   "metadata": {
    "scrolled": true
   },
   "outputs": [
    {
     "name": "stdout",
     "output_type": "stream",
     "text": [
      "0\tCor\tValor\n",
      "1\tVermelh\t1\n",
      "2\tLaranja\t2\n",
      "3\tAmarelo\t3\n",
      "4\tVerde\t4\n",
      "5\tAzul\t5\n",
      "6\tPurpura\t6\n",
      "7\tCinza\t7\n",
      "8\tPreto\t8\n",
      "9\tBranco\t9"
     ]
    }
   ],
   "source": [
    "# igual ao código acima porém inclui o número da linha atraves do enumerate()\n",
    "with open('cores.txt', 'r') as arq:\n",
    "    for i, linha in enumerate(arq):\n",
    "        print(str(i) + '\\t' + linha, end='')# linha = linha.strip() # remover espaços em branco antes e depois da palavra"
   ]
  },
  {
   "cell_type": "code",
   "execution_count": 36,
   "id": "b7e347ab",
   "metadata": {
    "scrolled": false
   },
   "outputs": [
    {
     "data": {
      "text/html": [
       "<div>\n",
       "<style scoped>\n",
       "    .dataframe tbody tr th:only-of-type {\n",
       "        vertical-align: middle;\n",
       "    }\n",
       "\n",
       "    .dataframe tbody tr th {\n",
       "        vertical-align: top;\n",
       "    }\n",
       "\n",
       "    .dataframe thead th {\n",
       "        text-align: right;\n",
       "    }\n",
       "</style>\n",
       "<table border=\"1\" class=\"dataframe\">\n",
       "  <thead>\n",
       "    <tr style=\"text-align: right;\">\n",
       "      <th></th>\n",
       "      <th>Cor</th>\n",
       "      <th>Valor</th>\n",
       "    </tr>\n",
       "  </thead>\n",
       "  <tbody>\n",
       "    <tr>\n",
       "      <th>0</th>\n",
       "      <td>Vermelh</td>\n",
       "      <td>1</td>\n",
       "    </tr>\n",
       "    <tr>\n",
       "      <th>1</th>\n",
       "      <td>Laranja</td>\n",
       "      <td>2</td>\n",
       "    </tr>\n",
       "    <tr>\n",
       "      <th>2</th>\n",
       "      <td>Amarelo</td>\n",
       "      <td>3</td>\n",
       "    </tr>\n",
       "    <tr>\n",
       "      <th>3</th>\n",
       "      <td>Verde</td>\n",
       "      <td>4</td>\n",
       "    </tr>\n",
       "    <tr>\n",
       "      <th>4</th>\n",
       "      <td>Azul</td>\n",
       "      <td>5</td>\n",
       "    </tr>\n",
       "    <tr>\n",
       "      <th>5</th>\n",
       "      <td>Purpura</td>\n",
       "      <td>6</td>\n",
       "    </tr>\n",
       "    <tr>\n",
       "      <th>6</th>\n",
       "      <td>Cinza</td>\n",
       "      <td>7</td>\n",
       "    </tr>\n",
       "    <tr>\n",
       "      <th>7</th>\n",
       "      <td>Preto</td>\n",
       "      <td>8</td>\n",
       "    </tr>\n",
       "    <tr>\n",
       "      <th>8</th>\n",
       "      <td>Branco</td>\n",
       "      <td>9</td>\n",
       "    </tr>\n",
       "  </tbody>\n",
       "</table>\n",
       "</div>"
      ],
      "text/plain": [
       "       Cor  Valor\n",
       "0  Vermelh      1\n",
       "1  Laranja      2\n",
       "2  Amarelo      3\n",
       "3    Verde      4\n",
       "4     Azul      5\n",
       "5  Purpura      6\n",
       "6    Cinza      7\n",
       "7    Preto      8\n",
       "8   Branco      9"
      ]
     },
     "metadata": {},
     "output_type": "display_data"
    },
    {
     "data": {
      "text/plain": [
       "0    Vermelh\n",
       "1    Laranja\n",
       "2    Amarelo\n",
       "3      Verde\n",
       "4       Azul\n",
       "5    Purpura\n",
       "6      Cinza\n",
       "7      Preto\n",
       "8     Branco\n",
       "Name: Cor, dtype: object"
      ]
     },
     "metadata": {},
     "output_type": "display_data"
    }
   ],
   "source": [
    "#lendo arquivo com o Pandas\n",
    "import pandas as pd\n",
    "df = pd.read_table('cores.txt')\n",
    "display(df)\n",
    "\n",
    "# imprime somente a coluna cor\n",
    "display(df['Cor'])"
   ]
  },
  {
   "cell_type": "code",
   "execution_count": 37,
   "id": "2117a5ec",
   "metadata": {
    "scrolled": true
   },
   "outputs": [
    {
     "data": {
      "text/html": [
       "<div>\n",
       "<style scoped>\n",
       "    .dataframe tbody tr th:only-of-type {\n",
       "        vertical-align: middle;\n",
       "    }\n",
       "\n",
       "    .dataframe tbody tr th {\n",
       "        vertical-align: top;\n",
       "    }\n",
       "\n",
       "    .dataframe thead th {\n",
       "        text-align: right;\n",
       "    }\n",
       "</style>\n",
       "<table border=\"1\" class=\"dataframe\">\n",
       "  <thead>\n",
       "    <tr style=\"text-align: right;\">\n",
       "      <th></th>\n",
       "      <th>id</th>\n",
       "      <th>pclass</th>\n",
       "      <th>survived</th>\n",
       "      <th>sex</th>\n",
       "      <th>age</th>\n",
       "      <th>sibsp</th>\n",
       "      <th>parch</th>\n",
       "    </tr>\n",
       "  </thead>\n",
       "  <tbody>\n",
       "    <tr>\n",
       "      <th>0</th>\n",
       "      <td>1</td>\n",
       "      <td>1st</td>\n",
       "      <td>survived</td>\n",
       "      <td>female</td>\n",
       "      <td>29.0000</td>\n",
       "      <td>0</td>\n",
       "      <td>0</td>\n",
       "    </tr>\n",
       "    <tr>\n",
       "      <th>1</th>\n",
       "      <td>2</td>\n",
       "      <td>1st</td>\n",
       "      <td>survived</td>\n",
       "      <td>male</td>\n",
       "      <td>0.9167</td>\n",
       "      <td>1</td>\n",
       "      <td>2</td>\n",
       "    </tr>\n",
       "    <tr>\n",
       "      <th>2</th>\n",
       "      <td>3</td>\n",
       "      <td>1st</td>\n",
       "      <td>died</td>\n",
       "      <td>female</td>\n",
       "      <td>2.0000</td>\n",
       "      <td>1</td>\n",
       "      <td>2</td>\n",
       "    </tr>\n",
       "    <tr>\n",
       "      <th>3</th>\n",
       "      <td>4</td>\n",
       "      <td>1st</td>\n",
       "      <td>died</td>\n",
       "      <td>male</td>\n",
       "      <td>30.0000</td>\n",
       "      <td>1</td>\n",
       "      <td>2</td>\n",
       "    </tr>\n",
       "    <tr>\n",
       "      <th>4</th>\n",
       "      <td>5</td>\n",
       "      <td>1st</td>\n",
       "      <td>died</td>\n",
       "      <td>female</td>\n",
       "      <td>25.0000</td>\n",
       "      <td>1</td>\n",
       "      <td>2</td>\n",
       "    </tr>\n",
       "    <tr>\n",
       "      <th>...</th>\n",
       "      <td>...</td>\n",
       "      <td>...</td>\n",
       "      <td>...</td>\n",
       "      <td>...</td>\n",
       "      <td>...</td>\n",
       "      <td>...</td>\n",
       "      <td>...</td>\n",
       "    </tr>\n",
       "    <tr>\n",
       "      <th>1304</th>\n",
       "      <td>1305</td>\n",
       "      <td>3rd</td>\n",
       "      <td>died</td>\n",
       "      <td>female</td>\n",
       "      <td>14.5000</td>\n",
       "      <td>1</td>\n",
       "      <td>0</td>\n",
       "    </tr>\n",
       "    <tr>\n",
       "      <th>1305</th>\n",
       "      <td>1306</td>\n",
       "      <td>3rd</td>\n",
       "      <td>died</td>\n",
       "      <td>female</td>\n",
       "      <td>9999.0000</td>\n",
       "      <td>1</td>\n",
       "      <td>0</td>\n",
       "    </tr>\n",
       "    <tr>\n",
       "      <th>1306</th>\n",
       "      <td>1307</td>\n",
       "      <td>3rd</td>\n",
       "      <td>died</td>\n",
       "      <td>male</td>\n",
       "      <td>26.5000</td>\n",
       "      <td>0</td>\n",
       "      <td>0</td>\n",
       "    </tr>\n",
       "    <tr>\n",
       "      <th>1307</th>\n",
       "      <td>1308</td>\n",
       "      <td>3rd</td>\n",
       "      <td>died</td>\n",
       "      <td>male</td>\n",
       "      <td>27.0000</td>\n",
       "      <td>0</td>\n",
       "      <td>0</td>\n",
       "    </tr>\n",
       "    <tr>\n",
       "      <th>1308</th>\n",
       "      <td>1309</td>\n",
       "      <td>3rd</td>\n",
       "      <td>died</td>\n",
       "      <td>male</td>\n",
       "      <td>29.0000</td>\n",
       "      <td>0</td>\n",
       "      <td>0</td>\n",
       "    </tr>\n",
       "  </tbody>\n",
       "</table>\n",
       "<p>1309 rows × 7 columns</p>\n",
       "</div>"
      ],
      "text/plain": [
       "        id pclass  survived     sex        age  sibsp  parch\n",
       "0        1    1st  survived  female    29.0000      0      0\n",
       "1        2    1st  survived    male     0.9167      1      2\n",
       "2        3    1st      died  female     2.0000      1      2\n",
       "3        4    1st      died    male    30.0000      1      2\n",
       "4        5    1st      died  female    25.0000      1      2\n",
       "...    ...    ...       ...     ...        ...    ...    ...\n",
       "1304  1305    3rd      died  female    14.5000      1      0\n",
       "1305  1306    3rd      died  female  9999.0000      1      0\n",
       "1306  1307    3rd      died    male    26.5000      0      0\n",
       "1307  1308    3rd      died    male    27.0000      0      0\n",
       "1308  1309    3rd      died    male    29.0000      0      0\n",
       "\n",
       "[1309 rows x 7 columns]"
      ]
     },
     "metadata": {},
     "output_type": "display_data"
    }
   ],
   "source": [
    "df = pd.read_csv('titanic.csv')\n",
    "display(df)"
   ]
  },
  {
   "cell_type": "code",
   "execution_count": 40,
   "id": "a6f97362",
   "metadata": {
    "scrolled": true
   },
   "outputs": [
    {
     "data": {
      "text/html": [
       "<div>\n",
       "<style scoped>\n",
       "    .dataframe tbody tr th:only-of-type {\n",
       "        vertical-align: middle;\n",
       "    }\n",
       "\n",
       "    .dataframe tbody tr th {\n",
       "        vertical-align: top;\n",
       "    }\n",
       "\n",
       "    .dataframe thead th {\n",
       "        text-align: right;\n",
       "    }\n",
       "</style>\n",
       "<table border=\"1\" class=\"dataframe\">\n",
       "  <thead>\n",
       "    <tr style=\"text-align: right;\">\n",
       "      <th></th>\n",
       "      <th>id</th>\n",
       "      <th>pclass</th>\n",
       "      <th>survived</th>\n",
       "      <th>sex</th>\n",
       "      <th>age</th>\n",
       "      <th>sibsp</th>\n",
       "      <th>parch</th>\n",
       "    </tr>\n",
       "  </thead>\n",
       "  <tbody>\n",
       "    <tr>\n",
       "      <th>0</th>\n",
       "      <td>1</td>\n",
       "      <td>1st</td>\n",
       "      <td>survived</td>\n",
       "      <td>female</td>\n",
       "      <td>29.0000</td>\n",
       "      <td>0</td>\n",
       "      <td>0</td>\n",
       "    </tr>\n",
       "    <tr>\n",
       "      <th>1</th>\n",
       "      <td>2</td>\n",
       "      <td>1st</td>\n",
       "      <td>survived</td>\n",
       "      <td>male</td>\n",
       "      <td>0.9167</td>\n",
       "      <td>1</td>\n",
       "      <td>2</td>\n",
       "    </tr>\n",
       "    <tr>\n",
       "      <th>2</th>\n",
       "      <td>3</td>\n",
       "      <td>1st</td>\n",
       "      <td>died</td>\n",
       "      <td>female</td>\n",
       "      <td>2.0000</td>\n",
       "      <td>1</td>\n",
       "      <td>2</td>\n",
       "    </tr>\n",
       "    <tr>\n",
       "      <th>3</th>\n",
       "      <td>4</td>\n",
       "      <td>1st</td>\n",
       "      <td>died</td>\n",
       "      <td>male</td>\n",
       "      <td>30.0000</td>\n",
       "      <td>1</td>\n",
       "      <td>2</td>\n",
       "    </tr>\n",
       "    <tr>\n",
       "      <th>4</th>\n",
       "      <td>5</td>\n",
       "      <td>1st</td>\n",
       "      <td>died</td>\n",
       "      <td>female</td>\n",
       "      <td>25.0000</td>\n",
       "      <td>1</td>\n",
       "      <td>2</td>\n",
       "    </tr>\n",
       "  </tbody>\n",
       "</table>\n",
       "</div>"
      ],
      "text/plain": [
       "   id pclass  survived     sex      age  sibsp  parch\n",
       "0   1    1st  survived  female  29.0000      0      0\n",
       "1   2    1st  survived    male   0.9167      1      2\n",
       "2   3    1st      died  female   2.0000      1      2\n",
       "3   4    1st      died    male  30.0000      1      2\n",
       "4   5    1st      died  female  25.0000      1      2"
      ]
     },
     "execution_count": 40,
     "metadata": {},
     "output_type": "execute_result"
    }
   ],
   "source": [
    "#somente as primeiras 5 linhas\n",
    "df.head()"
   ]
  },
  {
   "cell_type": "code",
   "execution_count": 39,
   "id": "f02ed34a",
   "metadata": {
    "scrolled": true
   },
   "outputs": [
    {
     "data": {
      "text/html": [
       "<div>\n",
       "<style scoped>\n",
       "    .dataframe tbody tr th:only-of-type {\n",
       "        vertical-align: middle;\n",
       "    }\n",
       "\n",
       "    .dataframe tbody tr th {\n",
       "        vertical-align: top;\n",
       "    }\n",
       "\n",
       "    .dataframe thead th {\n",
       "        text-align: right;\n",
       "    }\n",
       "</style>\n",
       "<table border=\"1\" class=\"dataframe\">\n",
       "  <thead>\n",
       "    <tr style=\"text-align: right;\">\n",
       "      <th></th>\n",
       "      <th>id</th>\n",
       "      <th>pclass</th>\n",
       "      <th>survived</th>\n",
       "      <th>sex</th>\n",
       "      <th>age</th>\n",
       "      <th>sibsp</th>\n",
       "      <th>parch</th>\n",
       "    </tr>\n",
       "  </thead>\n",
       "  <tbody>\n",
       "    <tr>\n",
       "      <th>1304</th>\n",
       "      <td>1305</td>\n",
       "      <td>3rd</td>\n",
       "      <td>died</td>\n",
       "      <td>female</td>\n",
       "      <td>14.5</td>\n",
       "      <td>1</td>\n",
       "      <td>0</td>\n",
       "    </tr>\n",
       "    <tr>\n",
       "      <th>1305</th>\n",
       "      <td>1306</td>\n",
       "      <td>3rd</td>\n",
       "      <td>died</td>\n",
       "      <td>female</td>\n",
       "      <td>9999.0</td>\n",
       "      <td>1</td>\n",
       "      <td>0</td>\n",
       "    </tr>\n",
       "    <tr>\n",
       "      <th>1306</th>\n",
       "      <td>1307</td>\n",
       "      <td>3rd</td>\n",
       "      <td>died</td>\n",
       "      <td>male</td>\n",
       "      <td>26.5</td>\n",
       "      <td>0</td>\n",
       "      <td>0</td>\n",
       "    </tr>\n",
       "    <tr>\n",
       "      <th>1307</th>\n",
       "      <td>1308</td>\n",
       "      <td>3rd</td>\n",
       "      <td>died</td>\n",
       "      <td>male</td>\n",
       "      <td>27.0</td>\n",
       "      <td>0</td>\n",
       "      <td>0</td>\n",
       "    </tr>\n",
       "    <tr>\n",
       "      <th>1308</th>\n",
       "      <td>1309</td>\n",
       "      <td>3rd</td>\n",
       "      <td>died</td>\n",
       "      <td>male</td>\n",
       "      <td>29.0</td>\n",
       "      <td>0</td>\n",
       "      <td>0</td>\n",
       "    </tr>\n",
       "  </tbody>\n",
       "</table>\n",
       "</div>"
      ],
      "text/plain": [
       "        id pclass survived     sex     age  sibsp  parch\n",
       "1304  1305    3rd     died  female    14.5      1      0\n",
       "1305  1306    3rd     died  female  9999.0      1      0\n",
       "1306  1307    3rd     died    male    26.5      0      0\n",
       "1307  1308    3rd     died    male    27.0      0      0\n",
       "1308  1309    3rd     died    male    29.0      0      0"
      ]
     },
     "execution_count": 39,
     "metadata": {},
     "output_type": "execute_result"
    }
   ],
   "source": [
    "#somente as 5 ultimas\n",
    "df.tail()"
   ]
  },
  {
   "cell_type": "code",
   "execution_count": 42,
   "id": "dbc29f06",
   "metadata": {
    "scrolled": true
   },
   "outputs": [
    {
     "name": "stdout",
     "output_type": "stream",
     "text": [
      "survived        29.0\n",
      "survived        0.916700006\n",
      "died            2.0\n",
      "died            30.0\n",
      "died            25.0\n",
      "survived        48.0\n",
      "survived        63.0\n",
      "died            39.0\n",
      "survived        53.0\n",
      "died            71.0\n"
     ]
    }
   ],
   "source": [
    "#imprime as 10 primeiras linhas das colunas 'survived' e 'age'\n",
    "for i in range(10):\n",
    "    print(f\"{df['survived'][i]:15} {df['age'][i]}\")\n",
    "    "
   ]
  },
  {
   "cell_type": "code",
   "execution_count": 43,
   "id": "97d6dc1f",
   "metadata": {
    "scrolled": true
   },
   "outputs": [],
   "source": [
    "#salvando no formato padrão XLSX do Excel\n",
    "df.to_excel('titanic.xlsx', index=False)"
   ]
  },
  {
   "cell_type": "markdown",
   "id": "a5b109c1",
   "metadata": {},
   "source": [
    "### Lendo com pandas arquivo XLS"
   ]
  },
  {
   "cell_type": "code",
   "execution_count": 44,
   "id": "f3318210",
   "metadata": {
    "scrolled": true
   },
   "outputs": [
    {
     "data": {
      "text/html": [
       "<div>\n",
       "<style scoped>\n",
       "    .dataframe tbody tr th:only-of-type {\n",
       "        vertical-align: middle;\n",
       "    }\n",
       "\n",
       "    .dataframe tbody tr th {\n",
       "        vertical-align: top;\n",
       "    }\n",
       "\n",
       "    .dataframe thead th {\n",
       "        text-align: right;\n",
       "    }\n",
       "</style>\n",
       "<table border=\"1\" class=\"dataframe\">\n",
       "  <thead>\n",
       "    <tr style=\"text-align: right;\">\n",
       "      <th></th>\n",
       "      <th>Angulo (graus)</th>\n",
       "      <th>Seno</th>\n",
       "      <th>Cosseno</th>\n",
       "      <th>Tangente</th>\n",
       "    </tr>\n",
       "  </thead>\n",
       "  <tbody>\n",
       "    <tr>\n",
       "      <th>0</th>\n",
       "      <td>178.623488</td>\n",
       "      <td>0.024022</td>\n",
       "      <td>-0.999711</td>\n",
       "      <td>-0.024029</td>\n",
       "    </tr>\n",
       "    <tr>\n",
       "      <th>1</th>\n",
       "      <td>348.774851</td>\n",
       "      <td>-0.194665</td>\n",
       "      <td>0.980870</td>\n",
       "      <td>-0.198462</td>\n",
       "    </tr>\n",
       "    <tr>\n",
       "      <th>2</th>\n",
       "      <td>157.083954</td>\n",
       "      <td>0.389382</td>\n",
       "      <td>-0.921076</td>\n",
       "      <td>-0.422747</td>\n",
       "    </tr>\n",
       "    <tr>\n",
       "      <th>3</th>\n",
       "      <td>82.053645</td>\n",
       "      <td>0.990398</td>\n",
       "      <td>0.138246</td>\n",
       "      <td>7.164033</td>\n",
       "    </tr>\n",
       "    <tr>\n",
       "      <th>4</th>\n",
       "      <td>236.123998</td>\n",
       "      <td>-0.830246</td>\n",
       "      <td>-0.557397</td>\n",
       "      <td>1.489504</td>\n",
       "    </tr>\n",
       "    <tr>\n",
       "      <th>...</th>\n",
       "      <td>...</td>\n",
       "      <td>...</td>\n",
       "      <td>...</td>\n",
       "      <td>...</td>\n",
       "    </tr>\n",
       "    <tr>\n",
       "      <th>67</th>\n",
       "      <td>325.889575</td>\n",
       "      <td>-0.560790</td>\n",
       "      <td>0.827958</td>\n",
       "      <td>-0.677316</td>\n",
       "    </tr>\n",
       "    <tr>\n",
       "      <th>68</th>\n",
       "      <td>24.516610</td>\n",
       "      <td>0.414957</td>\n",
       "      <td>0.909841</td>\n",
       "      <td>0.456076</td>\n",
       "    </tr>\n",
       "    <tr>\n",
       "      <th>69</th>\n",
       "      <td>356.281354</td>\n",
       "      <td>-0.064857</td>\n",
       "      <td>0.997895</td>\n",
       "      <td>-0.064994</td>\n",
       "    </tr>\n",
       "    <tr>\n",
       "      <th>70</th>\n",
       "      <td>334.704140</td>\n",
       "      <td>-0.427293</td>\n",
       "      <td>0.904113</td>\n",
       "      <td>-0.472609</td>\n",
       "    </tr>\n",
       "    <tr>\n",
       "      <th>71</th>\n",
       "      <td>280.894480</td>\n",
       "      <td>-0.981977</td>\n",
       "      <td>0.189001</td>\n",
       "      <td>-5.195622</td>\n",
       "    </tr>\n",
       "  </tbody>\n",
       "</table>\n",
       "<p>72 rows × 4 columns</p>\n",
       "</div>"
      ],
      "text/plain": [
       "    Angulo (graus)      Seno   Cosseno  Tangente\n",
       "0       178.623488  0.024022 -0.999711 -0.024029\n",
       "1       348.774851 -0.194665  0.980870 -0.198462\n",
       "2       157.083954  0.389382 -0.921076 -0.422747\n",
       "3        82.053645  0.990398  0.138246  7.164033\n",
       "4       236.123998 -0.830246 -0.557397  1.489504\n",
       "..             ...       ...       ...       ...\n",
       "67      325.889575 -0.560790  0.827958 -0.677316\n",
       "68       24.516610  0.414957  0.909841  0.456076\n",
       "69      356.281354 -0.064857  0.997895 -0.064994\n",
       "70      334.704140 -0.427293  0.904113 -0.472609\n",
       "71      280.894480 -0.981977  0.189001 -5.195622\n",
       "\n",
       "[72 rows x 4 columns]"
      ]
     },
     "metadata": {},
     "output_type": "display_data"
    }
   ],
   "source": [
    "xls = pd.ExcelFile('valores.xls')\n",
    "#converte primeira planilha em DF\n",
    "df = xls.parse('Sheet1')\n",
    "display(df)"
   ]
  },
  {
   "cell_type": "code",
   "execution_count": 45,
   "id": "888dcbce",
   "metadata": {
    "scrolled": true
   },
   "outputs": [
    {
     "name": "stdout",
     "output_type": "stream",
     "text": [
      "72\n",
      "72\n",
      "72\n"
     ]
    }
   ],
   "source": [
    "#total de linhas no df\n",
    "print(len(df))\n",
    "print(len(df.index))\n",
    "print(df.shape[0])"
   ]
  },
  {
   "cell_type": "code",
   "execution_count": 47,
   "id": "d3e4f252",
   "metadata": {
    "scrolled": true
   },
   "outputs": [
    {
     "name": "stdout",
     "output_type": "stream",
     "text": [
      "(72, 4)\n"
     ]
    },
    {
     "data": {
      "text/html": [
       "<div>\n",
       "<style scoped>\n",
       "    .dataframe tbody tr th:only-of-type {\n",
       "        vertical-align: middle;\n",
       "    }\n",
       "\n",
       "    .dataframe tbody tr th {\n",
       "        vertical-align: top;\n",
       "    }\n",
       "\n",
       "    .dataframe thead th {\n",
       "        text-align: right;\n",
       "    }\n",
       "</style>\n",
       "<table border=\"1\" class=\"dataframe\">\n",
       "  <thead>\n",
       "    <tr style=\"text-align: right;\">\n",
       "      <th></th>\n",
       "      <th>Angulo (graus)</th>\n",
       "      <th>Seno</th>\n",
       "      <th>Cosseno</th>\n",
       "      <th>Tangente</th>\n",
       "    </tr>\n",
       "  </thead>\n",
       "  <tbody>\n",
       "    <tr>\n",
       "      <th>0</th>\n",
       "      <td>178.623488</td>\n",
       "      <td>0.024022</td>\n",
       "      <td>-0.999711</td>\n",
       "      <td>-0.024029</td>\n",
       "    </tr>\n",
       "    <tr>\n",
       "      <th>1</th>\n",
       "      <td>348.774851</td>\n",
       "      <td>-0.194665</td>\n",
       "      <td>0.980870</td>\n",
       "      <td>-0.198462</td>\n",
       "    </tr>\n",
       "    <tr>\n",
       "      <th>2</th>\n",
       "      <td>157.083954</td>\n",
       "      <td>0.389382</td>\n",
       "      <td>-0.921076</td>\n",
       "      <td>-0.422747</td>\n",
       "    </tr>\n",
       "    <tr>\n",
       "      <th>3</th>\n",
       "      <td>82.053645</td>\n",
       "      <td>0.990398</td>\n",
       "      <td>0.138246</td>\n",
       "      <td>7.164033</td>\n",
       "    </tr>\n",
       "    <tr>\n",
       "      <th>4</th>\n",
       "      <td>236.123998</td>\n",
       "      <td>-0.830246</td>\n",
       "      <td>-0.557397</td>\n",
       "      <td>1.489504</td>\n",
       "    </tr>\n",
       "    <tr>\n",
       "      <th>5</th>\n",
       "      <td>87.777126</td>\n",
       "      <td>0.999248</td>\n",
       "      <td>0.038787</td>\n",
       "      <td>25.762611</td>\n",
       "    </tr>\n",
       "    <tr>\n",
       "      <th>6</th>\n",
       "      <td>105.786678</td>\n",
       "      <td>0.962281</td>\n",
       "      <td>-0.272057</td>\n",
       "      <td>-3.537064</td>\n",
       "    </tr>\n",
       "    <tr>\n",
       "      <th>7</th>\n",
       "      <td>128.472692</td>\n",
       "      <td>0.782905</td>\n",
       "      <td>-0.622142</td>\n",
       "      <td>-1.258403</td>\n",
       "    </tr>\n",
       "    <tr>\n",
       "      <th>8</th>\n",
       "      <td>353.839015</td>\n",
       "      <td>-0.107322</td>\n",
       "      <td>0.994224</td>\n",
       "      <td>-0.107946</td>\n",
       "    </tr>\n",
       "    <tr>\n",
       "      <th>9</th>\n",
       "      <td>296.236236</td>\n",
       "      <td>-0.896979</td>\n",
       "      <td>0.442073</td>\n",
       "      <td>-2.029028</td>\n",
       "    </tr>\n",
       "  </tbody>\n",
       "</table>\n",
       "</div>"
      ],
      "text/plain": [
       "   Angulo (graus)      Seno   Cosseno   Tangente\n",
       "0      178.623488  0.024022 -0.999711  -0.024029\n",
       "1      348.774851 -0.194665  0.980870  -0.198462\n",
       "2      157.083954  0.389382 -0.921076  -0.422747\n",
       "3       82.053645  0.990398  0.138246   7.164033\n",
       "4      236.123998 -0.830246 -0.557397   1.489504\n",
       "5       87.777126  0.999248  0.038787  25.762611\n",
       "6      105.786678  0.962281 -0.272057  -3.537064\n",
       "7      128.472692  0.782905 -0.622142  -1.258403\n",
       "8      353.839015 -0.107322  0.994224  -0.107946\n",
       "9      296.236236 -0.896979  0.442073  -2.029028"
      ]
     },
     "metadata": {},
     "output_type": "display_data"
    }
   ],
   "source": [
    "#linhas x colunas\n",
    "print(df.shape)\n",
    "\n",
    "#primeiras 10 linhas\n",
    "display(df[0:10])\n"
   ]
  },
  {
   "cell_type": "code",
   "execution_count": 48,
   "id": "7aeab3a8",
   "metadata": {
    "scrolled": true
   },
   "outputs": [
    {
     "data": {
      "text/html": [
       "<div>\n",
       "<style scoped>\n",
       "    .dataframe tbody tr th:only-of-type {\n",
       "        vertical-align: middle;\n",
       "    }\n",
       "\n",
       "    .dataframe tbody tr th {\n",
       "        vertical-align: top;\n",
       "    }\n",
       "\n",
       "    .dataframe thead th {\n",
       "        text-align: right;\n",
       "    }\n",
       "</style>\n",
       "<table border=\"1\" class=\"dataframe\">\n",
       "  <thead>\n",
       "    <tr style=\"text-align: right;\">\n",
       "      <th></th>\n",
       "      <th>Angulo (graus)</th>\n",
       "      <th>Seno</th>\n",
       "      <th>Cosseno</th>\n",
       "      <th>Tangente</th>\n",
       "    </tr>\n",
       "  </thead>\n",
       "  <tbody>\n",
       "    <tr>\n",
       "      <th>62</th>\n",
       "      <td>244.882591</td>\n",
       "      <td>-0.905440</td>\n",
       "      <td>-0.424475</td>\n",
       "      <td>2.133084</td>\n",
       "    </tr>\n",
       "    <tr>\n",
       "      <th>63</th>\n",
       "      <td>260.129712</td>\n",
       "      <td>-0.985198</td>\n",
       "      <td>-0.171418</td>\n",
       "      <td>5.747337</td>\n",
       "    </tr>\n",
       "    <tr>\n",
       "      <th>64</th>\n",
       "      <td>17.855883</td>\n",
       "      <td>0.306624</td>\n",
       "      <td>0.951831</td>\n",
       "      <td>0.322141</td>\n",
       "    </tr>\n",
       "    <tr>\n",
       "      <th>65</th>\n",
       "      <td>252.574264</td>\n",
       "      <td>-0.954106</td>\n",
       "      <td>-0.299469</td>\n",
       "      <td>3.185988</td>\n",
       "    </tr>\n",
       "    <tr>\n",
       "      <th>66</th>\n",
       "      <td>129.243781</td>\n",
       "      <td>0.774461</td>\n",
       "      <td>-0.632621</td>\n",
       "      <td>-1.224210</td>\n",
       "    </tr>\n",
       "    <tr>\n",
       "      <th>67</th>\n",
       "      <td>325.889575</td>\n",
       "      <td>-0.560790</td>\n",
       "      <td>0.827958</td>\n",
       "      <td>-0.677316</td>\n",
       "    </tr>\n",
       "    <tr>\n",
       "      <th>68</th>\n",
       "      <td>24.516610</td>\n",
       "      <td>0.414957</td>\n",
       "      <td>0.909841</td>\n",
       "      <td>0.456076</td>\n",
       "    </tr>\n",
       "    <tr>\n",
       "      <th>69</th>\n",
       "      <td>356.281354</td>\n",
       "      <td>-0.064857</td>\n",
       "      <td>0.997895</td>\n",
       "      <td>-0.064994</td>\n",
       "    </tr>\n",
       "    <tr>\n",
       "      <th>70</th>\n",
       "      <td>334.704140</td>\n",
       "      <td>-0.427293</td>\n",
       "      <td>0.904113</td>\n",
       "      <td>-0.472609</td>\n",
       "    </tr>\n",
       "    <tr>\n",
       "      <th>71</th>\n",
       "      <td>280.894480</td>\n",
       "      <td>-0.981977</td>\n",
       "      <td>0.189001</td>\n",
       "      <td>-5.195622</td>\n",
       "    </tr>\n",
       "  </tbody>\n",
       "</table>\n",
       "</div>"
      ],
      "text/plain": [
       "    Angulo (graus)      Seno   Cosseno  Tangente\n",
       "62      244.882591 -0.905440 -0.424475  2.133084\n",
       "63      260.129712 -0.985198 -0.171418  5.747337\n",
       "64       17.855883  0.306624  0.951831  0.322141\n",
       "65      252.574264 -0.954106 -0.299469  3.185988\n",
       "66      129.243781  0.774461 -0.632621 -1.224210\n",
       "67      325.889575 -0.560790  0.827958 -0.677316\n",
       "68       24.516610  0.414957  0.909841  0.456076\n",
       "69      356.281354 -0.064857  0.997895 -0.064994\n",
       "70      334.704140 -0.427293  0.904113 -0.472609\n",
       "71      280.894480 -0.981977  0.189001 -5.195622"
      ]
     },
     "metadata": {},
     "output_type": "display_data"
    }
   ],
   "source": [
    "#últimas 10 linhas\n",
    "display(df[-10:])"
   ]
  },
  {
   "cell_type": "code",
   "execution_count": null,
   "id": "6ac949f9",
   "metadata": {
    "scrolled": true
   },
   "outputs": [],
   "source": [
    "#somente a coluna 'Seno'\n",
    "print(df['Seno'])\n",
    "#ou\n",
    "print(df.Seno)"
   ]
  },
  {
   "cell_type": "code",
   "execution_count": 50,
   "id": "340f52ee",
   "metadata": {
    "scrolled": true
   },
   "outputs": [],
   "source": [
    "#salvando no formato csv\n",
    "df.to_csv('valores.csv', index=False, sep=';')"
   ]
  },
  {
   "cell_type": "markdown",
   "id": "9728abf6",
   "metadata": {},
   "source": [
    "### Lendo um arquivo XML"
   ]
  },
  {
   "cell_type": "code",
   "execution_count": 61,
   "id": "47b6254f",
   "metadata": {},
   "outputs": [
    {
     "data": {
      "text/html": [
       "<div>\n",
       "<style scoped>\n",
       "    .dataframe tbody tr th:only-of-type {\n",
       "        vertical-align: middle;\n",
       "    }\n",
       "\n",
       "    .dataframe tbody tr th {\n",
       "        vertical-align: top;\n",
       "    }\n",
       "\n",
       "    .dataframe thead th {\n",
       "        text-align: right;\n",
       "    }\n",
       "</style>\n",
       "<table border=\"1\" class=\"dataframe\">\n",
       "  <thead>\n",
       "    <tr style=\"text-align: right;\">\n",
       "      <th></th>\n",
       "      <th>Número</th>\n",
       "      <th>Texto</th>\n",
       "      <th>Lógica</th>\n",
       "    </tr>\n",
       "  </thead>\n",
       "  <tbody>\n",
       "  </tbody>\n",
       "</table>\n",
       "</div>"
      ],
      "text/plain": [
       "Empty DataFrame\n",
       "Columns: [Número, Texto, Lógica]\n",
       "Index: []"
      ]
     },
     "metadata": {},
     "output_type": "display_data"
    }
   ],
   "source": [
    "from lxml import objectify\n",
    "\n",
    "#cria uma árvore de elementos: lxml.etree._ElementTree\n",
    "xml = objectify.parse(open('XMLData.xml'))\n",
    "#obtem o elemento raiz da arvore\n",
    "root = xml.getroot()\n",
    "#total de filhos do elemento raiz - total de registros\n",
    "#cada registro será uma linha no DF\n",
    "total = len(root.getchildren())\n",
    "\n",
    "\n",
    "#para criar um DF vazio, você deve colocar as colunas que deseja no DF.\n",
    "df = pd.DataFrame(columns = ['Número', 'Texto', 'Lógica'])\n",
    "display(df)"
   ]
  },
  {
   "cell_type": "code",
   "execution_count": 64,
   "id": "9a42fe42",
   "metadata": {},
   "outputs": [
    {
     "data": {
      "text/html": [
       "<div>\n",
       "<style scoped>\n",
       "    .dataframe tbody tr th:only-of-type {\n",
       "        vertical-align: middle;\n",
       "    }\n",
       "\n",
       "    .dataframe tbody tr th {\n",
       "        vertical-align: top;\n",
       "    }\n",
       "\n",
       "    .dataframe thead th {\n",
       "        text-align: right;\n",
       "    }\n",
       "</style>\n",
       "<table border=\"1\" class=\"dataframe\">\n",
       "  <thead>\n",
       "    <tr style=\"text-align: right;\">\n",
       "      <th></th>\n",
       "      <th>Número</th>\n",
       "      <th>Texto</th>\n",
       "      <th>Lógica</th>\n",
       "    </tr>\n",
       "  </thead>\n",
       "  <tbody>\n",
       "    <tr>\n",
       "      <th>0</th>\n",
       "      <td>1</td>\n",
       "      <td>Primeiro</td>\n",
       "      <td>True</td>\n",
       "    </tr>\n",
       "    <tr>\n",
       "      <th>1</th>\n",
       "      <td>2</td>\n",
       "      <td>Segundo</td>\n",
       "      <td>False</td>\n",
       "    </tr>\n",
       "    <tr>\n",
       "      <th>2</th>\n",
       "      <td>3</td>\n",
       "      <td>Terceiro</td>\n",
       "      <td>True</td>\n",
       "    </tr>\n",
       "    <tr>\n",
       "      <th>3</th>\n",
       "      <td>4</td>\n",
       "      <td>Quarto</td>\n",
       "      <td>False</td>\n",
       "    </tr>\n",
       "  </tbody>\n",
       "</table>\n",
       "</div>"
      ],
      "text/plain": [
       "  Número     Texto Lógica\n",
       "0      1  Primeiro   True\n",
       "1      2   Segundo  False\n",
       "2      3  Terceiro   True\n",
       "3      4    Quarto  False"
      ]
     },
     "metadata": {},
     "output_type": "display_data"
    },
    {
     "data": {
      "text/plain": [
       "'{\"N\\\\u00famero\":{\"0\":\"1\",\"1\":\"2\",\"2\":\"3\",\"3\":\"4\"},\"Texto\":{\"0\":\"Primeiro\",\"1\":\"Segundo\",\"2\":\"Terceiro\",\"3\":\"Quarto\"},\"L\\\\u00f3gica\":{\"0\":\"True\",\"1\":\"False\",\"2\":\"True\",\"3\":\"False\"}}'"
      ]
     },
     "metadata": {},
     "output_type": "display_data"
    }
   ],
   "source": [
    "#percorre a árvore obtendo os dados de cada filho da raiz(cada registro)\n",
    "for i in range(0, total):\n",
    "    dados = root.getchildren()[i].getchildren()\n",
    "    row = [dados[0].text,dados[1].text,dados[2].text]\n",
    "    df.loc[i] = row\n",
    "    \n",
    "display(df)\n",
    "\n",
    "#salvar em csv\n",
    "df.to_csv('XMLData.csv', index=False, sep=';')\n",
    "\n",
    "#salvar em xlsx\n",
    "df.to_excel('XMLData.xlsx', index=False)\n",
    "\n",
    "#salva em formato javascript - objeto JSON\n",
    "display(df.to_json())\n",
    "\n",
    "\n",
    "df.to_json('XMLData.json')"
   ]
  },
  {
   "cell_type": "code",
   "execution_count": null,
   "id": "383af84e",
   "metadata": {},
   "outputs": [],
   "source": []
  }
 ],
 "metadata": {
  "kernelspec": {
   "display_name": "Python 3 (ipykernel)",
   "language": "python",
   "name": "python3"
  },
  "language_info": {
   "codemirror_mode": {
    "name": "ipython",
    "version": 3
   },
   "file_extension": ".py",
   "mimetype": "text/x-python",
   "name": "python",
   "nbconvert_exporter": "python",
   "pygments_lexer": "ipython3",
   "version": "3.9.12"
  }
 },
 "nbformat": 4,
 "nbformat_minor": 5
}
