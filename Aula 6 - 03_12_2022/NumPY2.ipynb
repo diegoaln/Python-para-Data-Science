{
 "cells": [
  {
   "cell_type": "code",
   "execution_count": 15,
   "id": "414bb1ad",
   "metadata": {},
   "outputs": [
    {
     "name": "stdout",
     "output_type": "stream",
     "text": [
      "Tipo de Dado:  float64\n",
      "Dimensões:  1\n",
      "Formato:  (258,)\n",
      "Quantidade de itens:  258\n",
      "Minimo:  0.0\n",
      "Máximo:  119945.0\n",
      "Média:  44499.41\n",
      "[44410.  5712. 37123.     0. 25757. 10728.     0. 77599. 99197.]\n",
      "[89685. 85384. 98108. 71280. 27505. 29981. 52637.  7685. 50188.]\n"
     ]
    }
   ],
   "source": [
    "import numpy as np\n",
    "import pandas as pd\n",
    "\n",
    "\n",
    "km = np.loadtxt(fname='carros-km.txt')\n",
    "#print(km)\n",
    "print('Tipo de Dado: ',km.dtype)\n",
    "print('Dimensões: ',km.ndim)\n",
    "print('Formato: ',km.shape)\n",
    "print('Quantidade de itens: ',km.size)\n",
    "print('Minimo: ', km.min())\n",
    "print('Máximo: ', km.max())\n",
    "print(f'Média:  {km.mean():.2f}')\n",
    "print(km[:9]) #9 primeiros números\n",
    "print(km[-9:]) #9 últimos números"
   ]
  },
  {
   "cell_type": "markdown",
   "id": "108ecbf8",
   "metadata": {},
   "source": [
    "#### Lista => Array NumPy => DF pandas"
   ]
  },
  {
   "cell_type": "code",
   "execution_count": 17,
   "id": "9ab4f179",
   "metadata": {},
   "outputs": [
    {
     "data": {
      "text/html": [
       "<div>\n",
       "<style scoped>\n",
       "    .dataframe tbody tr th:only-of-type {\n",
       "        vertical-align: middle;\n",
       "    }\n",
       "\n",
       "    .dataframe tbody tr th {\n",
       "        vertical-align: top;\n",
       "    }\n",
       "\n",
       "    .dataframe thead th {\n",
       "        text-align: right;\n",
       "    }\n",
       "</style>\n",
       "<table border=\"1\" class=\"dataframe\">\n",
       "  <thead>\n",
       "    <tr style=\"text-align: right;\">\n",
       "      <th></th>\n",
       "      <th>Frutas</th>\n",
       "      <th>Eletrônicos</th>\n",
       "      <th>Dias</th>\n",
       "    </tr>\n",
       "  </thead>\n",
       "  <tbody>\n",
       "    <tr>\n",
       "      <th>0</th>\n",
       "      <td>laranja</td>\n",
       "      <td>computador</td>\n",
       "      <td>segunda</td>\n",
       "    </tr>\n",
       "    <tr>\n",
       "      <th>1</th>\n",
       "      <td>banana</td>\n",
       "      <td>teclado</td>\n",
       "      <td>quarta</td>\n",
       "    </tr>\n",
       "    <tr>\n",
       "      <th>2</th>\n",
       "      <td>uva</td>\n",
       "      <td>mouse</td>\n",
       "      <td>sexta</td>\n",
       "    </tr>\n",
       "  </tbody>\n",
       "</table>\n",
       "</div>"
      ],
      "text/plain": [
       "    Frutas Eletrônicos     Dias\n",
       "0  laranja  computador  segunda\n",
       "1   banana     teclado   quarta\n",
       "2      uva       mouse    sexta"
      ]
     },
     "metadata": {},
     "output_type": "display_data"
    }
   ],
   "source": [
    "lista = [\n",
    "    ['laranja', 'computador', 'segunda'],\n",
    "    ['banana', 'teclado', 'quarta'],\n",
    "    ['uva', 'mouse', 'sexta']\n",
    "]\n",
    "\n",
    "\n",
    "#cria um df pandas a partir da lista 2d\n",
    "\n",
    "df = pd.DataFrame(lista, columns=['Frutas', 'Eletrônicos', 'Dias'])\n",
    "display(df)"
   ]
  },
  {
   "cell_type": "code",
   "execution_count": 18,
   "id": "beb270c3",
   "metadata": {},
   "outputs": [
    {
     "data": {
      "text/html": [
       "<div>\n",
       "<style scoped>\n",
       "    .dataframe tbody tr th:only-of-type {\n",
       "        vertical-align: middle;\n",
       "    }\n",
       "\n",
       "    .dataframe tbody tr th {\n",
       "        vertical-align: top;\n",
       "    }\n",
       "\n",
       "    .dataframe thead th {\n",
       "        text-align: right;\n",
       "    }\n",
       "</style>\n",
       "<table border=\"1\" class=\"dataframe\">\n",
       "  <thead>\n",
       "    <tr style=\"text-align: right;\">\n",
       "      <th></th>\n",
       "      <th>Frutas</th>\n",
       "      <th>Eletrônicos</th>\n",
       "      <th>Dias</th>\n",
       "    </tr>\n",
       "  </thead>\n",
       "  <tbody>\n",
       "    <tr>\n",
       "      <th>0</th>\n",
       "      <td>laranja</td>\n",
       "      <td>computador</td>\n",
       "      <td>segunda</td>\n",
       "    </tr>\n",
       "    <tr>\n",
       "      <th>1</th>\n",
       "      <td>banana</td>\n",
       "      <td>teclado</td>\n",
       "      <td>quarta</td>\n",
       "    </tr>\n",
       "    <tr>\n",
       "      <th>2</th>\n",
       "      <td>uva</td>\n",
       "      <td>mouse</td>\n",
       "      <td>sexta</td>\n",
       "    </tr>\n",
       "  </tbody>\n",
       "</table>\n",
       "</div>"
      ],
      "text/plain": [
       "    Frutas Eletrônicos     Dias\n",
       "0  laranja  computador  segunda\n",
       "1   banana     teclado   quarta\n",
       "2      uva       mouse    sexta"
      ]
     },
     "metadata": {},
     "output_type": "display_data"
    }
   ],
   "source": [
    "#cria um df a partir de um array numpy\n",
    "a = np.array(lista)\n",
    "df = pd.DataFrame(a, columns=['Frutas', 'Eletrônicos', 'Dias'])\n",
    "display(df)"
   ]
  },
  {
   "cell_type": "code",
   "execution_count": 22,
   "id": "67361cb8",
   "metadata": {},
   "outputs": [
    {
     "data": {
      "text/html": [
       "<div>\n",
       "<style scoped>\n",
       "    .dataframe tbody tr th:only-of-type {\n",
       "        vertical-align: middle;\n",
       "    }\n",
       "\n",
       "    .dataframe tbody tr th {\n",
       "        vertical-align: top;\n",
       "    }\n",
       "\n",
       "    .dataframe thead th {\n",
       "        text-align: right;\n",
       "    }\n",
       "</style>\n",
       "<table border=\"1\" class=\"dataframe\">\n",
       "  <thead>\n",
       "    <tr style=\"text-align: right;\">\n",
       "      <th></th>\n",
       "      <th>Valores</th>\n",
       "    </tr>\n",
       "  </thead>\n",
       "  <tbody>\n",
       "    <tr>\n",
       "      <th>0</th>\n",
       "      <td>10</td>\n",
       "    </tr>\n",
       "    <tr>\n",
       "      <th>1</th>\n",
       "      <td>200</td>\n",
       "    </tr>\n",
       "    <tr>\n",
       "      <th>2</th>\n",
       "      <td>30</td>\n",
       "    </tr>\n",
       "    <tr>\n",
       "      <th>3</th>\n",
       "      <td>40</td>\n",
       "    </tr>\n",
       "  </tbody>\n",
       "</table>\n",
       "</div>"
      ],
      "text/plain": [
       "   Valores\n",
       "0       10\n",
       "1      200\n",
       "2       30\n",
       "3       40"
      ]
     },
     "metadata": {},
     "output_type": "display_data"
    }
   ],
   "source": [
    "#cria uma lista a partir de uma lista de 1D ( 1 Dimensão )\n",
    "a = np.array([10,200,30,40])\n",
    "\n",
    "df = pd.DataFrame(a, columns=['Valores'])\n",
    "display(df)"
   ]
  },
  {
   "cell_type": "code",
   "execution_count": 26,
   "id": "20b8cbd0",
   "metadata": {},
   "outputs": [
    {
     "data": {
      "text/plain": [
       "array([1, 2, 3, 4, 5, 4, 4])"
      ]
     },
     "metadata": {},
     "output_type": "display_data"
    },
    {
     "data": {
      "text/plain": [
       "(array([3, 5, 6], dtype=int64),)"
      ]
     },
     "execution_count": 26,
     "metadata": {},
     "output_type": "execute_result"
    }
   ],
   "source": [
    "a = np.array([1,2,3,4,5,4,4])\n",
    "display(a)\n",
    "\n",
    "\n",
    "#buscar os valores que são iguais a 4\n",
    "np.where(a == 4)"
   ]
  }
 ],
 "metadata": {
  "kernelspec": {
   "display_name": "Python 3 (ipykernel)",
   "language": "python",
   "name": "python3"
  },
  "language_info": {
   "codemirror_mode": {
    "name": "ipython",
    "version": 3
   },
   "file_extension": ".py",
   "mimetype": "text/x-python",
   "name": "python",
   "nbconvert_exporter": "python",
   "pygments_lexer": "ipython3",
   "version": "3.9.12"
  }
 },
 "nbformat": 4,
 "nbformat_minor": 5
}
