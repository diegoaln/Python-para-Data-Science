{
 "cells": [
  {
   "cell_type": "code",
   "execution_count": 5,
   "id": "d10b8d56",
   "metadata": {},
   "outputs": [
    {
     "data": {
      "text/html": [
       "<img src=\"https://img.elo7.com.br/product/zoom/1879DDF/adesivo-decorativo-m75-arvore-natal-infantil.jpg\"/>"
      ],
      "text/plain": [
       "<IPython.core.display.Image object>"
      ]
     },
     "metadata": {},
     "output_type": "display_data"
    },
    {
     "data": {
      "text/plain": [
       "IPython.core.display.Image"
      ]
     },
     "execution_count": 5,
     "metadata": {},
     "output_type": "execute_result"
    }
   ],
   "source": [
    "from IPython.display import Image\n",
    "imagem = Image(url='https://img.elo7.com.br/product/zoom/1879DDF/adesivo-decorativo-m75-arvore-natal-infantil.jpg')\n",
    "display(imagem)\n",
    "type(imagem)"
   ]
  },
  {
   "cell_type": "code",
   "execution_count": null,
   "id": "d4f2d27c",
   "metadata": {},
   "outputs": [],
   "source": []
  }
 ],
 "metadata": {
  "kernelspec": {
   "display_name": "Python 3 (ipykernel)",
   "language": "python",
   "name": "python3"
  },
  "language_info": {
   "codemirror_mode": {
    "name": "ipython",
    "version": 3
   },
   "file_extension": ".py",
   "mimetype": "text/x-python",
   "name": "python",
   "nbconvert_exporter": "python",
   "pygments_lexer": "ipython3",
   "version": "3.9.12"
  }
 },
 "nbformat": 4,
 "nbformat_minor": 5
}
