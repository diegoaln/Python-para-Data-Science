{
 "cells": [
  {
   "cell_type": "code",
   "execution_count": 1,
   "id": "5b696819",
   "metadata": {},
   "outputs": [
    {
     "name": "stdout",
     "output_type": "stream",
     "text": [
      "Matriz pyhton 2D:  [[1, 2, 3], [4, 5, 6]]\n"
     ]
    }
   ],
   "source": [
    "m2d = [\n",
    "    [1,2,3],\n",
    "    [4,5,6]\n",
    "]\n",
    "\n",
    "print('Matriz pyhton 2D: ', m2d)"
   ]
  },
  {
   "cell_type": "code",
   "execution_count": 4,
   "id": "cd54b250",
   "metadata": {},
   "outputs": [
    {
     "name": "stdout",
     "output_type": "stream",
     "text": [
      "[1, 2, 3]\n",
      "[4, 5, 6]\n"
     ]
    }
   ],
   "source": [
    "print(m2d[0]) #linha 0\n",
    "print(m2d[1]) #linha 1"
   ]
  },
  {
   "cell_type": "code",
   "execution_count": 13,
   "id": "fd1ce86a",
   "metadata": {},
   "outputs": [
    {
     "name": "stdout",
     "output_type": "stream",
     "text": [
      "2\n",
      "3\n"
     ]
    }
   ],
   "source": [
    "print(len(m2d))     #número de linhas\n",
    "print(len(m2d[0]))  #número de colunas"
   ]
  },
  {
   "cell_type": "code",
   "execution_count": 7,
   "id": "dce142ee",
   "metadata": {},
   "outputs": [
    {
     "name": "stdout",
     "output_type": "stream",
     "text": [
      "1\n",
      "2\n",
      "5\n"
     ]
    }
   ],
   "source": [
    "print(m2d[0][0]) #linha 0 e elemento 0\n",
    "print(m2d[0][1]) #linha 0 e elemento 1\n",
    "print(m2d[1][1]) #linha 1 e elemento 1"
   ]
  },
  {
   "cell_type": "code",
   "execution_count": 3,
   "id": "8e44b3f9",
   "metadata": {},
   "outputs": [
    {
     "name": "stdout",
     "output_type": "stream",
     "text": [
      "Matriz pyhton 3D:  [[[1, 2, 3], [4, 5, 6]], [[255, 255, 255], [255, 0, 0]]]\n"
     ]
    }
   ],
   "source": [
    "m3d =   [\n",
    "        [\n",
    "            [1,2,3],\n",
    "            [4,5,6]\n",
    "        ],\n",
    "        [\n",
    "            [255,255,255], #branco\n",
    "            [255,0,0] #red\n",
    "        ]\n",
    "        ]\n",
    "\n",
    "print('Matriz pyhton 3D: ', m3d)"
   ]
  },
  {
   "cell_type": "code",
   "execution_count": 9,
   "id": "cb6c961d",
   "metadata": {},
   "outputs": [
    {
     "name": "stdout",
     "output_type": "stream",
     "text": [
      "[[1, 2, 3], [4, 5, 6]]\n",
      "[1, 2, 3]\n",
      "1\n"
     ]
    }
   ],
   "source": [
    "print(m3d[0])        #nível 0\n",
    "print(m3d[0][0])     #nível 0 linha 0\n",
    "print(m3d[0][0][0])  #nível 0 linha 0 coluna 0"
   ]
  },
  {
   "cell_type": "code",
   "execution_count": 10,
   "id": "78dd1f2a",
   "metadata": {},
   "outputs": [
    {
     "name": "stdout",
     "output_type": "stream",
     "text": [
      "[[255, 255, 255], [255, 0, 0]]\n",
      "[255, 0, 0]\n",
      "255\n"
     ]
    }
   ],
   "source": [
    "print(m3d[1])        #nível 1\n",
    "print(m3d[1][1])     #nível 1 linha 1\n",
    "print(m3d[1][1][0])  #nível 1 linha 1 coluna 0"
   ]
  },
  {
   "cell_type": "code",
   "execution_count": 18,
   "id": "5415a038",
   "metadata": {},
   "outputs": [
    {
     "name": "stdout",
     "output_type": "stream",
     "text": [
      "2\n",
      "2\n",
      "3\n",
      "Tamanho da Matriz:  12\n"
     ]
    }
   ],
   "source": [
    "print(len(m3d))        #número de níveis\n",
    "print(len(m3d[0]))     #número de linhas\n",
    "print(len(m3d[0][0]))  #número de colunas\n",
    "\n",
    "print('Tamanho da Matriz: ', len(m3d) * len(m3d[0]) *len(m3d[0][0]))  "
   ]
  },
  {
   "cell_type": "markdown",
   "id": "529e4601",
   "metadata": {},
   "source": [
    "#### Comparação Array Python x NumPy"
   ]
  },
  {
   "cell_type": "code",
   "execution_count": 21,
   "id": "c5dfdfdc",
   "metadata": {},
   "outputs": [
    {
     "name": "stdout",
     "output_type": "stream",
     "text": [
      "Tempo array python:  34.19431710243225\n"
     ]
    }
   ],
   "source": [
    "#testa lista pyhton\n",
    "import time\n",
    "lista = list(range(1000000)) # 1 milhão\n",
    "ini =time.time()\n",
    "\n",
    "for _ in range(100):\n",
    "    lista = [x * 2 for x in lista]\n",
    "    \n",
    "fim = time.time()\n",
    "dif1 = fim - ini\n",
    "print('Tempo array python: ', dif1)\n"
   ]
  },
  {
   "cell_type": "code",
   "execution_count": 23,
   "id": "811b255e",
   "metadata": {},
   "outputs": [
    {
     "name": "stdout",
     "output_type": "stream",
     "text": [
      "Tempo array numpy:  0.18963909149169922\n"
     ]
    }
   ],
   "source": [
    "#testa array numpy\n",
    "import numpy as np\n",
    "arr = np.arange(1000000)\n",
    "ini = time.time()\n",
    "\n",
    "for _ in range(100):\n",
    "    arr *= 2\n",
    "\n",
    "fim = time.time()\n",
    "dif1 = fim - ini\n",
    "print('Tempo array numpy: ', dif1)"
   ]
  },
  {
   "cell_type": "markdown",
   "id": "747ad100",
   "metadata": {},
   "source": [
    "### Array numpy 2D a partir de uma lista"
   ]
  },
  {
   "cell_type": "code",
   "execution_count": 25,
   "id": "5f66645f",
   "metadata": {},
   "outputs": [
    {
     "name": "stdout",
     "output_type": "stream",
     "text": [
      "[[1 2 3]\n",
      " [4 5 6]]\n"
     ]
    },
    {
     "data": {
      "text/plain": [
       "array([[1, 2, 3],\n",
       "       [4, 5, 6]])"
      ]
     },
     "metadata": {},
     "output_type": "display_data"
    }
   ],
   "source": [
    "#axis = 0 -> significa coluna\n",
    "#axis = 1 -> significa linha\n",
    "\n",
    "import numpy as np\n",
    "lista = [\n",
    "    [1,2,3],\n",
    "    [4,5,6]\n",
    "]\n",
    "\n",
    "matriz = np.array(lista)\n",
    "print(matriz)\n",
    "display(matriz)"
   ]
  },
  {
   "cell_type": "code",
   "execution_count": 31,
   "id": "f83308c3",
   "metadata": {},
   "outputs": [
    {
     "name": "stdout",
     "output_type": "stream",
     "text": [
      "Número de dimensões: 2\n",
      "Tipo de Objeto: <class 'numpy.ndarray'>\n",
      "Tipo de dado numpy: int32\n",
      "Tamanho do Array: 6\n",
      "Formato do Array: (2, 3)\n",
      "Nº de Linhas: 2\n",
      "Nº de Colunas: 3\n"
     ]
    }
   ],
   "source": [
    "#propriedades do array numpy\n",
    "print('Número de dimensões:', matriz.ndim) #2D\n",
    "print('Tipo de Objeto:', type(matriz)) #numpy.ndarray\n",
    "print('Tipo de dado numpy:', matriz.dtype) #data type = int 32 bits\n",
    "print('Tamanho do Array:', matriz.size) #quantidade de itens na matriz\n",
    "print('Formato do Array:', matriz.shape) #dimensões 2x3\n",
    "print('Nº de Linhas:', matriz.shape[0])\n",
    "print('Nº de Colunas:', matriz.shape[1])"
   ]
  },
  {
   "cell_type": "code",
   "execution_count": 39,
   "id": "f39c996c",
   "metadata": {},
   "outputs": [
    {
     "name": "stdout",
     "output_type": "stream",
     "text": [
      "Mínimo: 1\n",
      "Máximo: 6\n",
      "Média: 3.5\n",
      "Soma: 21\n",
      "Desvio Padrão: 1.707825127659933\n",
      "Desvio Padrão (coluna): [1.5 1.5 1.5]\n",
      "Desvio Padrão (linha): [0.81649658 0.81649658]\n",
      "\n",
      "Mínimo (coluna): [1 2 3]\n",
      "Mínimo (linha): [1 4]\n",
      "\n",
      "Máximo (coluna): [4 5 6]\n",
      "Máximo (linha): [3 6]\n"
     ]
    }
   ],
   "source": [
    "#Métodos ou funções do array numpy\n",
    "print('Mínimo:', matriz.min())\n",
    "print('Máximo:', matriz.max())\n",
    "print('Média:', matriz.mean())\n",
    "print('Soma:', matriz.sum())\n",
    "print('Desvio Padrão:', matriz.std())\n",
    "print('Desvio Padrão (coluna):', matriz.std(axis=0))\n",
    "print('Desvio Padrão (linha):', matriz.std(axis=1))\n",
    "print('')\n",
    "#quando usa eixo, a coluna vem antes da linha... ou seja, coluna e linha\n",
    "# geralmente é linha e coluna em uma matriz.\n",
    "print('Mínimo (coluna):', matriz.min(axis=0))\n",
    "print('Mínimo (linha):', matriz.min(axis=1))\n",
    "print('')\n",
    "print('Máximo (coluna):', matriz.max(axis=0))\n",
    "print('Máximo (linha):', matriz.max(axis=1))"
   ]
  },
  {
   "cell_type": "code",
   "execution_count": 43,
   "id": "f8ca3456",
   "metadata": {},
   "outputs": [],
   "source": [
    "lista = [\n",
    "    [3,2,1],\n",
    "    [6,5,4],\n",
    "    [1,7,2]\n",
    "]\n",
    "\n",
    "a = np.array(lista)"
   ]
  },
  {
   "cell_type": "code",
   "execution_count": 46,
   "id": "eaea511d",
   "metadata": {},
   "outputs": [
    {
     "data": {
      "text/plain": [
       "array([3, 2])"
      ]
     },
     "metadata": {},
     "output_type": "display_data"
    }
   ],
   "source": [
    "#Fatiamento (seleção com intervalos)\n",
    "display(a[0][:2]) "
   ]
  },
  {
   "cell_type": "code",
   "execution_count": 49,
   "id": "e3a122c1",
   "metadata": {},
   "outputs": [
    {
     "name": "stdout",
     "output_type": "stream",
     "text": [
      "[3 2]\n",
      "[3 2]\n"
     ]
    }
   ],
   "source": [
    "#Seleção\n",
    "print(a[0][0:2]) #linha 0 e colunas 0 e 1\n",
    "#OU\n",
    "print(a[0, 0:2])\n",
    "\n"
   ]
  },
  {
   "cell_type": "code",
   "execution_count": null,
   "id": "df75e18f",
   "metadata": {},
   "outputs": [],
   "source": []
  }
 ],
 "metadata": {
  "kernelspec": {
   "display_name": "Python 3 (ipykernel)",
   "language": "python",
   "name": "python3"
  },
  "language_info": {
   "codemirror_mode": {
    "name": "ipython",
    "version": 3
   },
   "file_extension": ".py",
   "mimetype": "text/x-python",
   "name": "python",
   "nbconvert_exporter": "python",
   "pygments_lexer": "ipython3",
   "version": "3.9.12"
  }
 },
 "nbformat": 4,
 "nbformat_minor": 5
}
